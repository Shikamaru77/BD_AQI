{
 "cells": [
  {
   "cell_type": "code",
   "execution_count": 1,
   "id": "130fec6b",
   "metadata": {},
   "outputs": [],
   "source": [
    "import pandas as pd\n",
    "import numpy as np\n",
    "import requests\n",
    "import seaborn as sns\n"
   ]
  },
  {
   "cell_type": "code",
   "execution_count": 2,
   "id": "fff0e6ec",
   "metadata": {},
   "outputs": [],
   "source": [
    "#loading the dataset\n",
    "df_2022 = pd.read_csv('Dhaka_PM2.5_2022.csv')\n",
    "df_2021 = pd.read_csv('Dhaka_PM2.5_2021.csv')\n",
    "df_2020 = pd.read_csv('Dhaka_PM2.5_2020.csv')"
   ]
  },
  {
   "cell_type": "code",
   "execution_count": 3,
   "id": "376305b6",
   "metadata": {},
   "outputs": [
    {
     "data": {
      "text/html": [
       "<div>\n",
       "<style scoped>\n",
       "    .dataframe tbody tr th:only-of-type {\n",
       "        vertical-align: middle;\n",
       "    }\n",
       "\n",
       "    .dataframe tbody tr th {\n",
       "        vertical-align: top;\n",
       "    }\n",
       "\n",
       "    .dataframe thead th {\n",
       "        text-align: right;\n",
       "    }\n",
       "</style>\n",
       "<table border=\"1\" class=\"dataframe\">\n",
       "  <thead>\n",
       "    <tr style=\"text-align: right;\">\n",
       "      <th></th>\n",
       "      <th>Date (LT)</th>\n",
       "      <th>Hour</th>\n",
       "      <th>NowCast Conc.</th>\n",
       "      <th>Raw Conc.</th>\n",
       "      <th>Conc. Unit</th>\n",
       "      <th>AQI</th>\n",
       "      <th>AQI Category</th>\n",
       "      <th>QC Name</th>\n",
       "    </tr>\n",
       "  </thead>\n",
       "  <tbody>\n",
       "    <tr>\n",
       "      <th>0</th>\n",
       "      <td>01/01/2022 02:00</td>\n",
       "      <td>2</td>\n",
       "      <td>130.1</td>\n",
       "      <td>129</td>\n",
       "      <td>ug/m3</td>\n",
       "      <td>190</td>\n",
       "      <td>Unhealthy</td>\n",
       "      <td>Valid</td>\n",
       "    </tr>\n",
       "    <tr>\n",
       "      <th>1</th>\n",
       "      <td>01/01/2022 03:00</td>\n",
       "      <td>3</td>\n",
       "      <td>128.1</td>\n",
       "      <td>126</td>\n",
       "      <td>ug/m3</td>\n",
       "      <td>188</td>\n",
       "      <td>Unhealthy</td>\n",
       "      <td>Valid</td>\n",
       "    </tr>\n",
       "    <tr>\n",
       "      <th>2</th>\n",
       "      <td>01/01/2022 04:00</td>\n",
       "      <td>4</td>\n",
       "      <td>125.1</td>\n",
       "      <td>121</td>\n",
       "      <td>ug/m3</td>\n",
       "      <td>187</td>\n",
       "      <td>Unhealthy</td>\n",
       "      <td>Valid</td>\n",
       "    </tr>\n",
       "    <tr>\n",
       "      <th>3</th>\n",
       "      <td>01/01/2022 05:00</td>\n",
       "      <td>5</td>\n",
       "      <td>125.6</td>\n",
       "      <td>126</td>\n",
       "      <td>ug/m3</td>\n",
       "      <td>187</td>\n",
       "      <td>Unhealthy</td>\n",
       "      <td>Valid</td>\n",
       "    </tr>\n",
       "    <tr>\n",
       "      <th>4</th>\n",
       "      <td>01/01/2022 06:00</td>\n",
       "      <td>6</td>\n",
       "      <td>124.2</td>\n",
       "      <td>120</td>\n",
       "      <td>ug/m3</td>\n",
       "      <td>186</td>\n",
       "      <td>Unhealthy</td>\n",
       "      <td>Valid</td>\n",
       "    </tr>\n",
       "  </tbody>\n",
       "</table>\n",
       "</div>"
      ],
      "text/plain": [
       "          Date (LT)  Hour  NowCast Conc.  Raw Conc. Conc. Unit  AQI  \\\n",
       "0  01/01/2022 02:00     2          130.1        129      ug/m3  190   \n",
       "1  01/01/2022 03:00     3          128.1        126      ug/m3  188   \n",
       "2  01/01/2022 04:00     4          125.1        121      ug/m3  187   \n",
       "3  01/01/2022 05:00     5          125.6        126      ug/m3  187   \n",
       "4  01/01/2022 06:00     6          124.2        120      ug/m3  186   \n",
       "\n",
       "  AQI Category QC Name  \n",
       "0    Unhealthy   Valid  \n",
       "1    Unhealthy   Valid  \n",
       "2    Unhealthy   Valid  \n",
       "3    Unhealthy   Valid  \n",
       "4    Unhealthy   Valid  "
      ]
     },
     "execution_count": 3,
     "metadata": {},
     "output_type": "execute_result"
    }
   ],
   "source": [
    "#concatenating for further use\n",
    "df = pd.concat([df_2022,df_2021,df_2020])\n",
    "df.head()"
   ]
  },
  {
   "cell_type": "code",
   "execution_count": 4,
   "id": "c1c33ff9",
   "metadata": {},
   "outputs": [
    {
     "name": "stdout",
     "output_type": "stream",
     "text": [
      "<class 'pandas.core.frame.DataFrame'>\n",
      "Int64Index: 20420 entries, 0 to 8536\n",
      "Data columns (total 8 columns):\n",
      " #   Column         Non-Null Count  Dtype  \n",
      "---  ------         --------------  -----  \n",
      " 0   Date (LT)      20420 non-null  object \n",
      " 1   Hour           20420 non-null  int64  \n",
      " 2   NowCast Conc.  20420 non-null  float64\n",
      " 3   Raw Conc.      20420 non-null  int64  \n",
      " 4   Conc. Unit     20420 non-null  object \n",
      " 5   AQI            20420 non-null  int64  \n",
      " 6   AQI Category   20373 non-null  object \n",
      " 7   QC Name        20420 non-null  object \n",
      "dtypes: float64(1), int64(3), object(4)\n",
      "memory usage: 1.4+ MB\n"
     ]
    }
   ],
   "source": [
    "df.info()\n"
   ]
  },
  {
   "cell_type": "markdown",
   "id": "097881c7",
   "metadata": {},
   "source": [
    "## Data cleaning & wrangling\n"
   ]
  },
  {
   "cell_type": "code",
   "execution_count": 5,
   "id": "76bd9544",
   "metadata": {},
   "outputs": [],
   "source": [
    "df.columns= df.columns.str.lower()"
   ]
  },
  {
   "cell_type": "code",
   "execution_count": 6,
   "id": "c5b55915",
   "metadata": {},
   "outputs": [],
   "source": [
    "df.columns = df.columns.str.replace(' ', '_')"
   ]
  },
  {
   "cell_type": "code",
   "execution_count": 7,
   "id": "ed91d6fb",
   "metadata": {},
   "outputs": [
    {
     "data": {
      "text/html": [
       "<div>\n",
       "<style scoped>\n",
       "    .dataframe tbody tr th:only-of-type {\n",
       "        vertical-align: middle;\n",
       "    }\n",
       "\n",
       "    .dataframe tbody tr th {\n",
       "        vertical-align: top;\n",
       "    }\n",
       "\n",
       "    .dataframe thead th {\n",
       "        text-align: right;\n",
       "    }\n",
       "</style>\n",
       "<table border=\"1\" class=\"dataframe\">\n",
       "  <thead>\n",
       "    <tr style=\"text-align: right;\">\n",
       "      <th></th>\n",
       "      <th>date_(lt)</th>\n",
       "      <th>hour</th>\n",
       "      <th>nowcast_conc.</th>\n",
       "      <th>raw_conc.</th>\n",
       "      <th>conc._unit</th>\n",
       "      <th>aqi</th>\n",
       "      <th>aqi_category</th>\n",
       "      <th>qc_name</th>\n",
       "    </tr>\n",
       "  </thead>\n",
       "  <tbody>\n",
       "    <tr>\n",
       "      <th>0</th>\n",
       "      <td>01/01/2022 02:00</td>\n",
       "      <td>2</td>\n",
       "      <td>130.1</td>\n",
       "      <td>129</td>\n",
       "      <td>ug/m3</td>\n",
       "      <td>190</td>\n",
       "      <td>Unhealthy</td>\n",
       "      <td>Valid</td>\n",
       "    </tr>\n",
       "    <tr>\n",
       "      <th>1</th>\n",
       "      <td>01/01/2022 03:00</td>\n",
       "      <td>3</td>\n",
       "      <td>128.1</td>\n",
       "      <td>126</td>\n",
       "      <td>ug/m3</td>\n",
       "      <td>188</td>\n",
       "      <td>Unhealthy</td>\n",
       "      <td>Valid</td>\n",
       "    </tr>\n",
       "    <tr>\n",
       "      <th>2</th>\n",
       "      <td>01/01/2022 04:00</td>\n",
       "      <td>4</td>\n",
       "      <td>125.1</td>\n",
       "      <td>121</td>\n",
       "      <td>ug/m3</td>\n",
       "      <td>187</td>\n",
       "      <td>Unhealthy</td>\n",
       "      <td>Valid</td>\n",
       "    </tr>\n",
       "    <tr>\n",
       "      <th>3</th>\n",
       "      <td>01/01/2022 05:00</td>\n",
       "      <td>5</td>\n",
       "      <td>125.6</td>\n",
       "      <td>126</td>\n",
       "      <td>ug/m3</td>\n",
       "      <td>187</td>\n",
       "      <td>Unhealthy</td>\n",
       "      <td>Valid</td>\n",
       "    </tr>\n",
       "    <tr>\n",
       "      <th>4</th>\n",
       "      <td>01/01/2022 06:00</td>\n",
       "      <td>6</td>\n",
       "      <td>124.2</td>\n",
       "      <td>120</td>\n",
       "      <td>ug/m3</td>\n",
       "      <td>186</td>\n",
       "      <td>Unhealthy</td>\n",
       "      <td>Valid</td>\n",
       "    </tr>\n",
       "  </tbody>\n",
       "</table>\n",
       "</div>"
      ],
      "text/plain": [
       "          date_(lt)  hour  nowcast_conc.  raw_conc. conc._unit  aqi  \\\n",
       "0  01/01/2022 02:00     2          130.1        129      ug/m3  190   \n",
       "1  01/01/2022 03:00     3          128.1        126      ug/m3  188   \n",
       "2  01/01/2022 04:00     4          125.1        121      ug/m3  187   \n",
       "3  01/01/2022 05:00     5          125.6        126      ug/m3  187   \n",
       "4  01/01/2022 06:00     6          124.2        120      ug/m3  186   \n",
       "\n",
       "  aqi_category qc_name  \n",
       "0    Unhealthy   Valid  \n",
       "1    Unhealthy   Valid  \n",
       "2    Unhealthy   Valid  \n",
       "3    Unhealthy   Valid  \n",
       "4    Unhealthy   Valid  "
      ]
     },
     "execution_count": 7,
     "metadata": {},
     "output_type": "execute_result"
    }
   ],
   "source": [
    "df.head()"
   ]
  },
  {
   "cell_type": "code",
   "execution_count": 8,
   "id": "f98a7a28",
   "metadata": {},
   "outputs": [],
   "source": [
    "df.rename(columns={'date_(lt)': 'date'}, inplace=True)\n",
    "df['date'] = pd.to_datetime(df['date'], format = '%d/%m/%Y %H:%M')"
   ]
  },
  {
   "cell_type": "code",
   "execution_count": 9,
   "id": "1995a7d1",
   "metadata": {},
   "outputs": [
    {
     "name": "stdout",
     "output_type": "stream",
     "text": [
      "<class 'pandas.core.frame.DataFrame'>\n",
      "Int64Index: 20420 entries, 0 to 8536\n",
      "Data columns (total 8 columns):\n",
      " #   Column         Non-Null Count  Dtype         \n",
      "---  ------         --------------  -----         \n",
      " 0   date           20420 non-null  datetime64[ns]\n",
      " 1   hour           20420 non-null  int64         \n",
      " 2   nowcast_conc.  20420 non-null  float64       \n",
      " 3   raw_conc.      20420 non-null  int64         \n",
      " 4   conc._unit     20420 non-null  object        \n",
      " 5   aqi            20420 non-null  int64         \n",
      " 6   aqi_category   20373 non-null  object        \n",
      " 7   qc_name        20420 non-null  object        \n",
      "dtypes: datetime64[ns](1), float64(1), int64(3), object(3)\n",
      "memory usage: 1.4+ MB\n"
     ]
    }
   ],
   "source": [
    "df.info()"
   ]
  },
  {
   "cell_type": "markdown",
   "id": "9d6909a3",
   "metadata": {},
   "source": [
    "converted to date time"
   ]
  },
  {
   "cell_type": "code",
   "execution_count": 10,
   "id": "e2793ac9",
   "metadata": {},
   "outputs": [
    {
     "data": {
      "text/plain": [
       "date              0\n",
       "hour              0\n",
       "nowcast_conc.     0\n",
       "raw_conc.         0\n",
       "conc._unit        0\n",
       "aqi               0\n",
       "aqi_category     47\n",
       "qc_name           0\n",
       "dtype: int64"
      ]
     },
     "execution_count": 10,
     "metadata": {},
     "output_type": "execute_result"
    }
   ],
   "source": [
    "df.isnull().sum()"
   ]
  },
  {
   "cell_type": "code",
   "execution_count": 11,
   "id": "a504b482",
   "metadata": {},
   "outputs": [],
   "source": [
    "df['aqi_category'].fillna('Unknown', inplace=True)"
   ]
  },
  {
   "cell_type": "code",
   "execution_count": 12,
   "id": "049e0f39",
   "metadata": {},
   "outputs": [
    {
     "data": {
      "text/plain": [
       "date             0\n",
       "hour             0\n",
       "nowcast_conc.    0\n",
       "raw_conc.        0\n",
       "conc._unit       0\n",
       "aqi              0\n",
       "aqi_category     0\n",
       "qc_name          0\n",
       "dtype: int64"
      ]
     },
     "execution_count": 12,
     "metadata": {},
     "output_type": "execute_result"
    }
   ],
   "source": [
    "df.isnull().sum()"
   ]
  },
  {
   "cell_type": "markdown",
   "id": "57ed778a",
   "metadata": {},
   "source": [
    "looks good"
   ]
  },
  {
   "cell_type": "code",
   "execution_count": 13,
   "id": "a461d351",
   "metadata": {
    "scrolled": true
   },
   "outputs": [
    {
     "data": {
      "text/plain": [
       "Index(['date', 'hour', 'nowcast_conc.', 'raw_conc.', 'conc._unit', 'aqi',\n",
       "       'aqi_category', 'qc_name'],\n",
       "      dtype='object')"
      ]
     },
     "execution_count": 13,
     "metadata": {},
     "output_type": "execute_result"
    }
   ],
   "source": [
    "df.columns"
   ]
  },
  {
   "cell_type": "code",
   "execution_count": 14,
   "id": "d9ee47fc",
   "metadata": {},
   "outputs": [
    {
     "data": {
      "text/html": [
       "<div>\n",
       "<style scoped>\n",
       "    .dataframe tbody tr th:only-of-type {\n",
       "        vertical-align: middle;\n",
       "    }\n",
       "\n",
       "    .dataframe tbody tr th {\n",
       "        vertical-align: top;\n",
       "    }\n",
       "\n",
       "    .dataframe thead th {\n",
       "        text-align: right;\n",
       "    }\n",
       "</style>\n",
       "<table border=\"1\" class=\"dataframe\">\n",
       "  <thead>\n",
       "    <tr style=\"text-align: right;\">\n",
       "      <th></th>\n",
       "      <th>date</th>\n",
       "      <th>hour</th>\n",
       "      <th>nowcast_conc.</th>\n",
       "      <th>raw_conc.</th>\n",
       "      <th>conc._unit</th>\n",
       "      <th>aqi</th>\n",
       "      <th>aqi_category</th>\n",
       "      <th>qc_name</th>\n",
       "      <th>month</th>\n",
       "      <th>day</th>\n",
       "    </tr>\n",
       "  </thead>\n",
       "  <tbody>\n",
       "    <tr>\n",
       "      <th>0</th>\n",
       "      <td>2022-01-01 02:00:00</td>\n",
       "      <td>2</td>\n",
       "      <td>130.1</td>\n",
       "      <td>129</td>\n",
       "      <td>ug/m3</td>\n",
       "      <td>190</td>\n",
       "      <td>Unhealthy</td>\n",
       "      <td>Valid</td>\n",
       "      <td>1</td>\n",
       "      <td>1</td>\n",
       "    </tr>\n",
       "    <tr>\n",
       "      <th>1</th>\n",
       "      <td>2022-01-01 03:00:00</td>\n",
       "      <td>3</td>\n",
       "      <td>128.1</td>\n",
       "      <td>126</td>\n",
       "      <td>ug/m3</td>\n",
       "      <td>188</td>\n",
       "      <td>Unhealthy</td>\n",
       "      <td>Valid</td>\n",
       "      <td>1</td>\n",
       "      <td>1</td>\n",
       "    </tr>\n",
       "    <tr>\n",
       "      <th>2</th>\n",
       "      <td>2022-01-01 04:00:00</td>\n",
       "      <td>4</td>\n",
       "      <td>125.1</td>\n",
       "      <td>121</td>\n",
       "      <td>ug/m3</td>\n",
       "      <td>187</td>\n",
       "      <td>Unhealthy</td>\n",
       "      <td>Valid</td>\n",
       "      <td>1</td>\n",
       "      <td>1</td>\n",
       "    </tr>\n",
       "    <tr>\n",
       "      <th>3</th>\n",
       "      <td>2022-01-01 05:00:00</td>\n",
       "      <td>5</td>\n",
       "      <td>125.6</td>\n",
       "      <td>126</td>\n",
       "      <td>ug/m3</td>\n",
       "      <td>187</td>\n",
       "      <td>Unhealthy</td>\n",
       "      <td>Valid</td>\n",
       "      <td>1</td>\n",
       "      <td>1</td>\n",
       "    </tr>\n",
       "    <tr>\n",
       "      <th>4</th>\n",
       "      <td>2022-01-01 06:00:00</td>\n",
       "      <td>6</td>\n",
       "      <td>124.2</td>\n",
       "      <td>120</td>\n",
       "      <td>ug/m3</td>\n",
       "      <td>186</td>\n",
       "      <td>Unhealthy</td>\n",
       "      <td>Valid</td>\n",
       "      <td>1</td>\n",
       "      <td>1</td>\n",
       "    </tr>\n",
       "  </tbody>\n",
       "</table>\n",
       "</div>"
      ],
      "text/plain": [
       "                 date  hour  nowcast_conc.  raw_conc. conc._unit  aqi  \\\n",
       "0 2022-01-01 02:00:00     2          130.1        129      ug/m3  190   \n",
       "1 2022-01-01 03:00:00     3          128.1        126      ug/m3  188   \n",
       "2 2022-01-01 04:00:00     4          125.1        121      ug/m3  187   \n",
       "3 2022-01-01 05:00:00     5          125.6        126      ug/m3  187   \n",
       "4 2022-01-01 06:00:00     6          124.2        120      ug/m3  186   \n",
       "\n",
       "  aqi_category qc_name  month  day  \n",
       "0    Unhealthy   Valid      1    1  \n",
       "1    Unhealthy   Valid      1    1  \n",
       "2    Unhealthy   Valid      1    1  \n",
       "3    Unhealthy   Valid      1    1  \n",
       "4    Unhealthy   Valid      1    1  "
      ]
     },
     "execution_count": 14,
     "metadata": {},
     "output_type": "execute_result"
    }
   ],
   "source": [
    "df['month'] = df['date'].dt.month\n",
    "df['day'] = df['date'].dt.day\n",
    "df.head()"
   ]
  },
  {
   "cell_type": "markdown",
   "id": "905ead00",
   "metadata": {},
   "source": [
    "## Feature Engineering"
   ]
  },
  {
   "cell_type": "code",
   "execution_count": 15,
   "id": "069790d4",
   "metadata": {},
   "outputs": [
    {
     "data": {
      "text/html": [
       "<div>\n",
       "<style scoped>\n",
       "    .dataframe tbody tr th:only-of-type {\n",
       "        vertical-align: middle;\n",
       "    }\n",
       "\n",
       "    .dataframe tbody tr th {\n",
       "        vertical-align: top;\n",
       "    }\n",
       "\n",
       "    .dataframe thead th {\n",
       "        text-align: right;\n",
       "    }\n",
       "</style>\n",
       "<table border=\"1\" class=\"dataframe\">\n",
       "  <thead>\n",
       "    <tr style=\"text-align: right;\">\n",
       "      <th></th>\n",
       "      <th>date</th>\n",
       "      <th>hour</th>\n",
       "      <th>nowcast_conc.</th>\n",
       "      <th>raw_conc.</th>\n",
       "      <th>conc._unit</th>\n",
       "      <th>aqi</th>\n",
       "      <th>aqi_category</th>\n",
       "      <th>qc_name</th>\n",
       "      <th>month</th>\n",
       "      <th>day</th>\n",
       "    </tr>\n",
       "  </thead>\n",
       "  <tbody>\n",
       "    <tr>\n",
       "      <th>0</th>\n",
       "      <td>2022-01-01 02:00:00</td>\n",
       "      <td>2</td>\n",
       "      <td>130.1</td>\n",
       "      <td>129</td>\n",
       "      <td>ug/m3</td>\n",
       "      <td>190</td>\n",
       "      <td>Unhealthy</td>\n",
       "      <td>Valid</td>\n",
       "      <td>1</td>\n",
       "      <td>1</td>\n",
       "    </tr>\n",
       "    <tr>\n",
       "      <th>1</th>\n",
       "      <td>2022-01-01 03:00:00</td>\n",
       "      <td>3</td>\n",
       "      <td>128.1</td>\n",
       "      <td>126</td>\n",
       "      <td>ug/m3</td>\n",
       "      <td>188</td>\n",
       "      <td>Unhealthy</td>\n",
       "      <td>Valid</td>\n",
       "      <td>1</td>\n",
       "      <td>1</td>\n",
       "    </tr>\n",
       "    <tr>\n",
       "      <th>2</th>\n",
       "      <td>2022-01-01 04:00:00</td>\n",
       "      <td>4</td>\n",
       "      <td>125.1</td>\n",
       "      <td>121</td>\n",
       "      <td>ug/m3</td>\n",
       "      <td>187</td>\n",
       "      <td>Unhealthy</td>\n",
       "      <td>Valid</td>\n",
       "      <td>1</td>\n",
       "      <td>1</td>\n",
       "    </tr>\n",
       "    <tr>\n",
       "      <th>3</th>\n",
       "      <td>2022-01-01 05:00:00</td>\n",
       "      <td>5</td>\n",
       "      <td>125.6</td>\n",
       "      <td>126</td>\n",
       "      <td>ug/m3</td>\n",
       "      <td>187</td>\n",
       "      <td>Unhealthy</td>\n",
       "      <td>Valid</td>\n",
       "      <td>1</td>\n",
       "      <td>1</td>\n",
       "    </tr>\n",
       "    <tr>\n",
       "      <th>4</th>\n",
       "      <td>2022-01-01 06:00:00</td>\n",
       "      <td>6</td>\n",
       "      <td>124.2</td>\n",
       "      <td>120</td>\n",
       "      <td>ug/m3</td>\n",
       "      <td>186</td>\n",
       "      <td>Unhealthy</td>\n",
       "      <td>Valid</td>\n",
       "      <td>1</td>\n",
       "      <td>1</td>\n",
       "    </tr>\n",
       "  </tbody>\n",
       "</table>\n",
       "</div>"
      ],
      "text/plain": [
       "                 date  hour  nowcast_conc.  raw_conc. conc._unit  aqi  \\\n",
       "0 2022-01-01 02:00:00     2          130.1        129      ug/m3  190   \n",
       "1 2022-01-01 03:00:00     3          128.1        126      ug/m3  188   \n",
       "2 2022-01-01 04:00:00     4          125.1        121      ug/m3  187   \n",
       "3 2022-01-01 05:00:00     5          125.6        126      ug/m3  187   \n",
       "4 2022-01-01 06:00:00     6          124.2        120      ug/m3  186   \n",
       "\n",
       "  aqi_category qc_name  month  day  \n",
       "0    Unhealthy   Valid      1    1  \n",
       "1    Unhealthy   Valid      1    1  \n",
       "2    Unhealthy   Valid      1    1  \n",
       "3    Unhealthy   Valid      1    1  \n",
       "4    Unhealthy   Valid      1    1  "
      ]
     },
     "execution_count": 15,
     "metadata": {},
     "output_type": "execute_result"
    }
   ],
   "source": [
    "df.head()"
   ]
  },
  {
   "cell_type": "code",
   "execution_count": 16,
   "id": "f020d695",
   "metadata": {},
   "outputs": [],
   "source": [
    "df.drop(columns = 'qc_name', inplace = True)"
   ]
  },
  {
   "cell_type": "markdown",
   "id": "3c75dd79",
   "metadata": {},
   "source": [
    "**Label encoding of our target label**\n",
    "\n",
    "Since, its an ordinal category so we have to label encode it"
   ]
  },
  {
   "cell_type": "code",
   "execution_count": 17,
   "id": "2bc61b09",
   "metadata": {},
   "outputs": [],
   "source": [
    "from sklearn.preprocessing import LabelEncoder"
   ]
  },
  {
   "cell_type": "code",
   "execution_count": 18,
   "id": "739531c2",
   "metadata": {
    "scrolled": true
   },
   "outputs": [],
   "source": [
    "LE = LabelEncoder()"
   ]
  },
  {
   "cell_type": "code",
   "execution_count": 19,
   "id": "c12504fa",
   "metadata": {},
   "outputs": [],
   "source": [
    "df['aqi_le'] = LE.fit_transform(df['aqi_category'])"
   ]
  },
  {
   "cell_type": "code",
   "execution_count": 20,
   "id": "8251e56d",
   "metadata": {},
   "outputs": [
    {
     "data": {
      "text/html": [
       "<div>\n",
       "<style scoped>\n",
       "    .dataframe tbody tr th:only-of-type {\n",
       "        vertical-align: middle;\n",
       "    }\n",
       "\n",
       "    .dataframe tbody tr th {\n",
       "        vertical-align: top;\n",
       "    }\n",
       "\n",
       "    .dataframe thead th {\n",
       "        text-align: right;\n",
       "    }\n",
       "</style>\n",
       "<table border=\"1\" class=\"dataframe\">\n",
       "  <thead>\n",
       "    <tr style=\"text-align: right;\">\n",
       "      <th></th>\n",
       "      <th>date</th>\n",
       "      <th>hour</th>\n",
       "      <th>nowcast_conc.</th>\n",
       "      <th>raw_conc.</th>\n",
       "      <th>conc._unit</th>\n",
       "      <th>aqi</th>\n",
       "      <th>aqi_category</th>\n",
       "      <th>month</th>\n",
       "      <th>day</th>\n",
       "      <th>aqi_le</th>\n",
       "    </tr>\n",
       "  </thead>\n",
       "  <tbody>\n",
       "    <tr>\n",
       "      <th>0</th>\n",
       "      <td>2022-01-01 02:00:00</td>\n",
       "      <td>2</td>\n",
       "      <td>130.1</td>\n",
       "      <td>129</td>\n",
       "      <td>ug/m3</td>\n",
       "      <td>190</td>\n",
       "      <td>Unhealthy</td>\n",
       "      <td>1</td>\n",
       "      <td>1</td>\n",
       "      <td>3</td>\n",
       "    </tr>\n",
       "    <tr>\n",
       "      <th>1</th>\n",
       "      <td>2022-01-01 03:00:00</td>\n",
       "      <td>3</td>\n",
       "      <td>128.1</td>\n",
       "      <td>126</td>\n",
       "      <td>ug/m3</td>\n",
       "      <td>188</td>\n",
       "      <td>Unhealthy</td>\n",
       "      <td>1</td>\n",
       "      <td>1</td>\n",
       "      <td>3</td>\n",
       "    </tr>\n",
       "    <tr>\n",
       "      <th>2</th>\n",
       "      <td>2022-01-01 04:00:00</td>\n",
       "      <td>4</td>\n",
       "      <td>125.1</td>\n",
       "      <td>121</td>\n",
       "      <td>ug/m3</td>\n",
       "      <td>187</td>\n",
       "      <td>Unhealthy</td>\n",
       "      <td>1</td>\n",
       "      <td>1</td>\n",
       "      <td>3</td>\n",
       "    </tr>\n",
       "    <tr>\n",
       "      <th>3</th>\n",
       "      <td>2022-01-01 05:00:00</td>\n",
       "      <td>5</td>\n",
       "      <td>125.6</td>\n",
       "      <td>126</td>\n",
       "      <td>ug/m3</td>\n",
       "      <td>187</td>\n",
       "      <td>Unhealthy</td>\n",
       "      <td>1</td>\n",
       "      <td>1</td>\n",
       "      <td>3</td>\n",
       "    </tr>\n",
       "    <tr>\n",
       "      <th>4</th>\n",
       "      <td>2022-01-01 06:00:00</td>\n",
       "      <td>6</td>\n",
       "      <td>124.2</td>\n",
       "      <td>120</td>\n",
       "      <td>ug/m3</td>\n",
       "      <td>186</td>\n",
       "      <td>Unhealthy</td>\n",
       "      <td>1</td>\n",
       "      <td>1</td>\n",
       "      <td>3</td>\n",
       "    </tr>\n",
       "  </tbody>\n",
       "</table>\n",
       "</div>"
      ],
      "text/plain": [
       "                 date  hour  nowcast_conc.  raw_conc. conc._unit  aqi  \\\n",
       "0 2022-01-01 02:00:00     2          130.1        129      ug/m3  190   \n",
       "1 2022-01-01 03:00:00     3          128.1        126      ug/m3  188   \n",
       "2 2022-01-01 04:00:00     4          125.1        121      ug/m3  187   \n",
       "3 2022-01-01 05:00:00     5          125.6        126      ug/m3  187   \n",
       "4 2022-01-01 06:00:00     6          124.2        120      ug/m3  186   \n",
       "\n",
       "  aqi_category  month  day  aqi_le  \n",
       "0    Unhealthy      1    1       3  \n",
       "1    Unhealthy      1    1       3  \n",
       "2    Unhealthy      1    1       3  \n",
       "3    Unhealthy      1    1       3  \n",
       "4    Unhealthy      1    1       3  "
      ]
     },
     "execution_count": 20,
     "metadata": {},
     "output_type": "execute_result"
    }
   ],
   "source": [
    "df.head()"
   ]
  },
  {
   "cell_type": "code",
   "execution_count": 21,
   "id": "ddf685f2",
   "metadata": {},
   "outputs": [],
   "source": [
    "main_df = df.drop(columns= ['date','conc._unit'])"
   ]
  },
  {
   "cell_type": "code",
   "execution_count": 22,
   "id": "ea36cfb2",
   "metadata": {},
   "outputs": [
    {
     "data": {
      "text/plain": [
       "array(['Unhealthy', 'Very Unhealthy', 'Hazardous', 'Unknown',\n",
       "       'Unhealthy for Sensitive Groups', 'Moderate', 'Good'], dtype=object)"
      ]
     },
     "execution_count": 22,
     "metadata": {},
     "output_type": "execute_result"
    }
   ],
   "source": [
    "main_df['aqi_category'].unique()"
   ]
  },
  {
   "cell_type": "code",
   "execution_count": 23,
   "id": "6b55052b",
   "metadata": {},
   "outputs": [
    {
     "data": {
      "text/plain": [
       "array([3, 6, 1, 5, 4, 2, 0])"
      ]
     },
     "execution_count": 23,
     "metadata": {},
     "output_type": "execute_result"
    }
   ],
   "source": [
    "main_df['aqi_le'].unique()"
   ]
  },
  {
   "cell_type": "markdown",
   "id": "bb7c455f",
   "metadata": {},
   "source": [
    "The Label Encoding is a bit confusing on setting the ranks here so, I'll manually map it"
   ]
  },
  {
   "cell_type": "code",
   "execution_count": 24,
   "id": "948d70b2",
   "metadata": {},
   "outputs": [
    {
     "data": {
      "text/html": [
       "<div>\n",
       "<style scoped>\n",
       "    .dataframe tbody tr th:only-of-type {\n",
       "        vertical-align: middle;\n",
       "    }\n",
       "\n",
       "    .dataframe tbody tr th {\n",
       "        vertical-align: top;\n",
       "    }\n",
       "\n",
       "    .dataframe thead th {\n",
       "        text-align: right;\n",
       "    }\n",
       "</style>\n",
       "<table border=\"1\" class=\"dataframe\">\n",
       "  <thead>\n",
       "    <tr style=\"text-align: right;\">\n",
       "      <th></th>\n",
       "      <th>hour</th>\n",
       "      <th>nowcast_conc.</th>\n",
       "      <th>raw_conc.</th>\n",
       "      <th>aqi</th>\n",
       "      <th>aqi_category</th>\n",
       "      <th>month</th>\n",
       "      <th>day</th>\n",
       "      <th>aqi_le</th>\n",
       "      <th>aqi_map</th>\n",
       "    </tr>\n",
       "  </thead>\n",
       "  <tbody>\n",
       "    <tr>\n",
       "      <th>12</th>\n",
       "      <td>14</td>\n",
       "      <td>107.1</td>\n",
       "      <td>90</td>\n",
       "      <td>178</td>\n",
       "      <td>Unhealthy</td>\n",
       "      <td>1</td>\n",
       "      <td>1</td>\n",
       "      <td>3</td>\n",
       "      <td>3</td>\n",
       "    </tr>\n",
       "    <tr>\n",
       "      <th>24</th>\n",
       "      <td>2</td>\n",
       "      <td>140.8</td>\n",
       "      <td>135</td>\n",
       "      <td>195</td>\n",
       "      <td>Unhealthy</td>\n",
       "      <td>1</td>\n",
       "      <td>2</td>\n",
       "      <td>3</td>\n",
       "      <td>3</td>\n",
       "    </tr>\n",
       "    <tr>\n",
       "      <th>36</th>\n",
       "      <td>14</td>\n",
       "      <td>194.4</td>\n",
       "      <td>192</td>\n",
       "      <td>245</td>\n",
       "      <td>Very Unhealthy</td>\n",
       "      <td>1</td>\n",
       "      <td>2</td>\n",
       "      <td>6</td>\n",
       "      <td>5</td>\n",
       "    </tr>\n",
       "    <tr>\n",
       "      <th>48</th>\n",
       "      <td>2</td>\n",
       "      <td>221.0</td>\n",
       "      <td>195</td>\n",
       "      <td>271</td>\n",
       "      <td>Very Unhealthy</td>\n",
       "      <td>1</td>\n",
       "      <td>3</td>\n",
       "      <td>6</td>\n",
       "      <td>5</td>\n",
       "    </tr>\n",
       "    <tr>\n",
       "      <th>60</th>\n",
       "      <td>14</td>\n",
       "      <td>153.5</td>\n",
       "      <td>117</td>\n",
       "      <td>204</td>\n",
       "      <td>Very Unhealthy</td>\n",
       "      <td>1</td>\n",
       "      <td>3</td>\n",
       "      <td>6</td>\n",
       "      <td>5</td>\n",
       "    </tr>\n",
       "    <tr>\n",
       "      <th>72</th>\n",
       "      <td>2</td>\n",
       "      <td>204.7</td>\n",
       "      <td>201</td>\n",
       "      <td>255</td>\n",
       "      <td>Very Unhealthy</td>\n",
       "      <td>1</td>\n",
       "      <td>4</td>\n",
       "      <td>6</td>\n",
       "      <td>5</td>\n",
       "    </tr>\n",
       "    <tr>\n",
       "      <th>84</th>\n",
       "      <td>14</td>\n",
       "      <td>199.8</td>\n",
       "      <td>189</td>\n",
       "      <td>250</td>\n",
       "      <td>Very Unhealthy</td>\n",
       "      <td>1</td>\n",
       "      <td>4</td>\n",
       "      <td>6</td>\n",
       "      <td>5</td>\n",
       "    </tr>\n",
       "    <tr>\n",
       "      <th>96</th>\n",
       "      <td>2</td>\n",
       "      <td>218.2</td>\n",
       "      <td>208</td>\n",
       "      <td>268</td>\n",
       "      <td>Very Unhealthy</td>\n",
       "      <td>1</td>\n",
       "      <td>5</td>\n",
       "      <td>6</td>\n",
       "      <td>5</td>\n",
       "    </tr>\n",
       "  </tbody>\n",
       "</table>\n",
       "</div>"
      ],
      "text/plain": [
       "    hour  nowcast_conc.  raw_conc.  aqi    aqi_category  month  day  aqi_le  \\\n",
       "12    14          107.1         90  178       Unhealthy      1    1       3   \n",
       "24     2          140.8        135  195       Unhealthy      1    2       3   \n",
       "36    14          194.4        192  245  Very Unhealthy      1    2       6   \n",
       "48     2          221.0        195  271  Very Unhealthy      1    3       6   \n",
       "60    14          153.5        117  204  Very Unhealthy      1    3       6   \n",
       "72     2          204.7        201  255  Very Unhealthy      1    4       6   \n",
       "84    14          199.8        189  250  Very Unhealthy      1    4       6   \n",
       "96     2          218.2        208  268  Very Unhealthy      1    5       6   \n",
       "\n",
       "    aqi_map  \n",
       "12        3  \n",
       "24        3  \n",
       "36        5  \n",
       "48        5  \n",
       "60        5  \n",
       "72        5  \n",
       "84        5  \n",
       "96        5  "
      ]
     },
     "execution_count": 24,
     "metadata": {},
     "output_type": "execute_result"
    }
   ],
   "source": [
    "# Defining the mapping of numerical values to AQI categories\n",
    "aqi_ranking = {\n",
    "'Hazardous': 6,\n",
    "'Very Unhealthy': 5,\n",
    "'Unhealthy for Sensitive Groups': 4,\n",
    "'Unhealthy': 3,\n",
    "'Moderate': 2,\n",
    "'Good': 1,\n",
    "'Unknown': 0\n",
    "}\n",
    "\n",
    "# Create the new column 'aqi_map' and map the numerical values to AQI categories\n",
    "main_df['aqi_map'] = main_df['aqi_category'].replace(aqi_ranking)\n",
    "main_df[12:100:12]"
   ]
  },
  {
   "cell_type": "code",
   "execution_count": 25,
   "id": "ef2360ce",
   "metadata": {},
   "outputs": [
    {
     "data": {
      "text/html": [
       "<div>\n",
       "<style scoped>\n",
       "    .dataframe tbody tr th:only-of-type {\n",
       "        vertical-align: middle;\n",
       "    }\n",
       "\n",
       "    .dataframe tbody tr th {\n",
       "        vertical-align: top;\n",
       "    }\n",
       "\n",
       "    .dataframe thead th {\n",
       "        text-align: right;\n",
       "    }\n",
       "</style>\n",
       "<table border=\"1\" class=\"dataframe\">\n",
       "  <thead>\n",
       "    <tr style=\"text-align: right;\">\n",
       "      <th></th>\n",
       "      <th>hour</th>\n",
       "      <th>nowcast_conc.</th>\n",
       "      <th>raw_conc.</th>\n",
       "      <th>aqi</th>\n",
       "      <th>month</th>\n",
       "      <th>day</th>\n",
       "      <th>aqi_map</th>\n",
       "    </tr>\n",
       "  </thead>\n",
       "  <tbody>\n",
       "    <tr>\n",
       "      <th>0</th>\n",
       "      <td>2</td>\n",
       "      <td>130.1</td>\n",
       "      <td>129</td>\n",
       "      <td>190</td>\n",
       "      <td>1</td>\n",
       "      <td>1</td>\n",
       "      <td>3</td>\n",
       "    </tr>\n",
       "    <tr>\n",
       "      <th>1</th>\n",
       "      <td>3</td>\n",
       "      <td>128.1</td>\n",
       "      <td>126</td>\n",
       "      <td>188</td>\n",
       "      <td>1</td>\n",
       "      <td>1</td>\n",
       "      <td>3</td>\n",
       "    </tr>\n",
       "    <tr>\n",
       "      <th>2</th>\n",
       "      <td>4</td>\n",
       "      <td>125.1</td>\n",
       "      <td>121</td>\n",
       "      <td>187</td>\n",
       "      <td>1</td>\n",
       "      <td>1</td>\n",
       "      <td>3</td>\n",
       "    </tr>\n",
       "    <tr>\n",
       "      <th>3</th>\n",
       "      <td>5</td>\n",
       "      <td>125.6</td>\n",
       "      <td>126</td>\n",
       "      <td>187</td>\n",
       "      <td>1</td>\n",
       "      <td>1</td>\n",
       "      <td>3</td>\n",
       "    </tr>\n",
       "    <tr>\n",
       "      <th>4</th>\n",
       "      <td>6</td>\n",
       "      <td>124.2</td>\n",
       "      <td>120</td>\n",
       "      <td>186</td>\n",
       "      <td>1</td>\n",
       "      <td>1</td>\n",
       "      <td>3</td>\n",
       "    </tr>\n",
       "    <tr>\n",
       "      <th>...</th>\n",
       "      <td>...</td>\n",
       "      <td>...</td>\n",
       "      <td>...</td>\n",
       "      <td>...</td>\n",
       "      <td>...</td>\n",
       "      <td>...</td>\n",
       "      <td>...</td>\n",
       "    </tr>\n",
       "    <tr>\n",
       "      <th>8532</th>\n",
       "      <td>20</td>\n",
       "      <td>169.2</td>\n",
       "      <td>190</td>\n",
       "      <td>220</td>\n",
       "      <td>12</td>\n",
       "      <td>31</td>\n",
       "      <td>5</td>\n",
       "    </tr>\n",
       "    <tr>\n",
       "      <th>8533</th>\n",
       "      <td>21</td>\n",
       "      <td>182.1</td>\n",
       "      <td>195</td>\n",
       "      <td>232</td>\n",
       "      <td>12</td>\n",
       "      <td>31</td>\n",
       "      <td>5</td>\n",
       "    </tr>\n",
       "    <tr>\n",
       "      <th>8534</th>\n",
       "      <td>22</td>\n",
       "      <td>195.5</td>\n",
       "      <td>209</td>\n",
       "      <td>246</td>\n",
       "      <td>12</td>\n",
       "      <td>31</td>\n",
       "      <td>5</td>\n",
       "    </tr>\n",
       "    <tr>\n",
       "      <th>8535</th>\n",
       "      <td>23</td>\n",
       "      <td>210.7</td>\n",
       "      <td>226</td>\n",
       "      <td>261</td>\n",
       "      <td>12</td>\n",
       "      <td>31</td>\n",
       "      <td>5</td>\n",
       "    </tr>\n",
       "    <tr>\n",
       "      <th>8536</th>\n",
       "      <td>0</td>\n",
       "      <td>215.8</td>\n",
       "      <td>221</td>\n",
       "      <td>266</td>\n",
       "      <td>1</td>\n",
       "      <td>1</td>\n",
       "      <td>5</td>\n",
       "    </tr>\n",
       "  </tbody>\n",
       "</table>\n",
       "<p>20420 rows × 7 columns</p>\n",
       "</div>"
      ],
      "text/plain": [
       "      hour  nowcast_conc.  raw_conc.  aqi  month  day  aqi_map\n",
       "0        2          130.1        129  190      1    1        3\n",
       "1        3          128.1        126  188      1    1        3\n",
       "2        4          125.1        121  187      1    1        3\n",
       "3        5          125.6        126  187      1    1        3\n",
       "4        6          124.2        120  186      1    1        3\n",
       "...    ...            ...        ...  ...    ...  ...      ...\n",
       "8532    20          169.2        190  220     12   31        5\n",
       "8533    21          182.1        195  232     12   31        5\n",
       "8534    22          195.5        209  246     12   31        5\n",
       "8535    23          210.7        226  261     12   31        5\n",
       "8536     0          215.8        221  266      1    1        5\n",
       "\n",
       "[20420 rows x 7 columns]"
      ]
     },
     "execution_count": 25,
     "metadata": {},
     "output_type": "execute_result"
    }
   ],
   "source": [
    "main_df = main_df.drop(columns = ['aqi_le', 'aqi_category'])\n",
    "main_df"
   ]
  },
  {
   "cell_type": "markdown",
   "id": "136cabba",
   "metadata": {},
   "source": [
    "## Feature Selection\n",
    "\n",
    "I'll use some of the methods to select the features that would provide the best patterns or insights. These would be:\n",
    "- Correlation\n",
    "- RFECV"
   ]
  },
  {
   "cell_type": "markdown",
   "id": "4ee73937",
   "metadata": {},
   "source": [
    "1. **Correlation**"
   ]
  },
  {
   "cell_type": "code",
   "execution_count": 26,
   "id": "cf6f539a",
   "metadata": {},
   "outputs": [],
   "source": [
    "X= main_df.drop(columns = ['aqi_map'])\n",
    "y = main_df['aqi_map']"
   ]
  },
  {
   "cell_type": "code",
   "execution_count": 27,
   "id": "7479322c",
   "metadata": {},
   "outputs": [
    {
     "data": {
      "text/plain": [
       "<AxesSubplot: >"
      ]
     },
     "execution_count": 27,
     "metadata": {},
     "output_type": "execute_result"
    },
    {
     "data": {
      "image/png": "[encoded data removed]",
      "text/plain": [
       "<Figure size 640x480 with 2 Axes>"
      ]
     },
     "metadata": {},
     "output_type": "display_data"
    }
   ],
   "source": [
    "sns.heatmap(main_df.corr(),annot =True, cmap = 'viridis')"
   ]
  },
  {
   "cell_type": "markdown",
   "id": "a63b7ee7",
   "metadata": {},
   "source": [
    "Here, the columns = **'nowcast_conc.'**, **'aqi**', **'raw_conc.'** could be chosen as our selected features"
   ]
  },
  {
   "cell_type": "markdown",
   "id": "39f8b82d",
   "metadata": {},
   "source": [
    "2. **RFECV**"
   ]
  },
  {
   "cell_type": "code",
   "execution_count": 28,
   "id": "614adc3e",
   "metadata": {},
   "outputs": [],
   "source": [
    "from sklearn.model_selection import train_test_split\n",
    "from sklearn.ensemble import RandomForestRegressor\n",
    "from sklearn.feature_selection import RFECV\n",
    "from sklearn.metrics import r2_score"
   ]
  },
  {
   "cell_type": "code",
   "execution_count": 29,
   "id": "204398d0",
   "metadata": {},
   "outputs": [],
   "source": [
    "X_train, X_test, y_train, y_test = train_test_split(X, y, test_size = 0.25)"
   ]
  },
  {
   "cell_type": "code",
   "execution_count": 30,
   "id": "716e2097",
   "metadata": {},
   "outputs": [],
   "source": [
    "rfr = RandomForestRegressor()"
   ]
  },
  {
   "cell_type": "code",
   "execution_count": 31,
   "id": "07062b99",
   "metadata": {},
   "outputs": [],
   "source": [
    "rfecv = RFECV(estimator = rfr, cv=5, scoring = 'r2')"
   ]
  },
  {
   "cell_type": "code",
   "execution_count": 32,
   "id": "b892215c",
   "metadata": {},
   "outputs": [
    {
     "data": {
      "text/plain": [
       "RFECV(cv=5, estimator=RandomForestRegressor(), scoring='r2')"
      ]
     },
     "execution_count": 32,
     "metadata": {},
     "output_type": "execute_result"
    }
   ],
   "source": [
    "rfecv.fit(X_train, y_train)"
   ]
  },
  {
   "cell_type": "markdown",
   "id": "571e2f15",
   "metadata": {},
   "source": [
    "After running the RFECV with these parameters, it will perform **recursive feature elimination with cross-validation**, iteratively **removing** the **least** important **features based on the RandomForestRegressor's evaluation** and **select** the **best subset of features** for the given regression problem. The RFECV object will store the results, and  can access them using its attributes such as support_, ranking_, and grid_scores_."
   ]
  },
  {
   "cell_type": "code",
   "execution_count": 33,
   "id": "a3619f3d",
   "metadata": {},
   "outputs": [
    {
     "data": {
      "text/plain": [
       "Index(['nowcast_conc.', 'aqi', 'month', 'day'], dtype='object')"
      ]
     },
     "execution_count": 33,
     "metadata": {},
     "output_type": "execute_result"
    }
   ],
   "source": [
    "selected_features = X_train.columns[rfecv.support_]\n",
    "selected_features"
   ]
  },
  {
   "cell_type": "code",
   "execution_count": 34,
   "id": "6cfd4d72",
   "metadata": {},
   "outputs": [],
   "source": [
    "#Ensembling\n",
    "# Train the RandomForestRegressor on the selected features\n",
    "rfr.fit(X_train[selected_features], y_train)\n",
    "\n",
    "#finally predict on test data\n",
    "y_pred = rfr.predict(X_test[selected_features])"
   ]
  },
  {
   "cell_type": "code",
   "execution_count": 35,
   "id": "47fedab0",
   "metadata": {},
   "outputs": [
    {
     "data": {
      "text/plain": [
       "0.9999998348265452"
      ]
     },
     "execution_count": 35,
     "metadata": {},
     "output_type": "execute_result"
    }
   ],
   "source": [
    "r2_score(y_test,y_pred)"
   ]
  },
  {
   "cell_type": "markdown",
   "id": "dd3c081d",
   "metadata": {},
   "source": [
    "In this case, an R2 score of 0.999858526156685 is very close to 1, which means that my regression model is an excellent fit for the data. It explains approximately 99.998% of the variance in the dependent variable, indicating that the model can almost perfectly predict the target variable."
   ]
  },
  {
   "cell_type": "code",
   "execution_count": 36,
   "id": "7332b181",
   "metadata": {},
   "outputs": [
    {
     "data": {
      "image/png": "[encoded data removed]",
      "text/plain": [
       "<Figure size 500x500 with 1 Axes>"
      ]
     },
     "metadata": {},
     "output_type": "display_data"
    }
   ],
   "source": [
    "#plotting\n",
    "import matplotlib.pyplot as plt\n",
    "sns.displot(y_test-y_pred)\n",
    "plt.grid(True)\n",
    "plt.savefig('fig-2.png')"
   ]
  },
  {
   "cell_type": "markdown",
   "id": "4f593daa",
   "metadata": {},
   "source": [
    "## Pickling"
   ]
  },
  {
   "cell_type": "code",
   "execution_count": 37,
   "id": "eb6b3e8e",
   "metadata": {},
   "outputs": [],
   "source": [
    "import pickle\n",
    "\n",
    "with open('BDaqi.pkl', 'wb') as f:\n",
    "    pickle.dump(rfr, f)\n",
    "#loading the file\n",
    "with open('BDaqi.pkl', 'rb') as f:\n",
    "    loaded_model = pickle.load(f)"
   ]
  },
  {
   "cell_type": "code",
   "execution_count": 38,
   "id": "629ccc4a",
   "metadata": {},
   "outputs": [
    {
     "data": {
      "text/plain": [
       "(20420, 6)"
      ]
     },
     "execution_count": 38,
     "metadata": {},
     "output_type": "execute_result"
    }
   ],
   "source": [
    "X.shape"
   ]
  },
  {
   "cell_type": "code",
   "execution_count": 39,
   "id": "71d6a17b",
   "metadata": {},
   "outputs": [
    {
     "data": {
      "text/html": [
       "<div>\n",
       "<style scoped>\n",
       "    .dataframe tbody tr th:only-of-type {\n",
       "        vertical-align: middle;\n",
       "    }\n",
       "\n",
       "    .dataframe tbody tr th {\n",
       "        vertical-align: top;\n",
       "    }\n",
       "\n",
       "    .dataframe thead th {\n",
       "        text-align: right;\n",
       "    }\n",
       "</style>\n",
       "<table border=\"1\" class=\"dataframe\">\n",
       "  <thead>\n",
       "    <tr style=\"text-align: right;\">\n",
       "      <th></th>\n",
       "      <th>nowcast_conc.</th>\n",
       "      <th>aqi</th>\n",
       "      <th>month</th>\n",
       "      <th>day</th>\n",
       "    </tr>\n",
       "  </thead>\n",
       "  <tbody>\n",
       "    <tr>\n",
       "      <th>0</th>\n",
       "      <td>130.1</td>\n",
       "      <td>190</td>\n",
       "      <td>1</td>\n",
       "      <td>1</td>\n",
       "    </tr>\n",
       "    <tr>\n",
       "      <th>1</th>\n",
       "      <td>128.1</td>\n",
       "      <td>188</td>\n",
       "      <td>1</td>\n",
       "      <td>1</td>\n",
       "    </tr>\n",
       "    <tr>\n",
       "      <th>2</th>\n",
       "      <td>125.1</td>\n",
       "      <td>187</td>\n",
       "      <td>1</td>\n",
       "      <td>1</td>\n",
       "    </tr>\n",
       "    <tr>\n",
       "      <th>3</th>\n",
       "      <td>125.6</td>\n",
       "      <td>187</td>\n",
       "      <td>1</td>\n",
       "      <td>1</td>\n",
       "    </tr>\n",
       "    <tr>\n",
       "      <th>4</th>\n",
       "      <td>124.2</td>\n",
       "      <td>186</td>\n",
       "      <td>1</td>\n",
       "      <td>1</td>\n",
       "    </tr>\n",
       "    <tr>\n",
       "      <th>...</th>\n",
       "      <td>...</td>\n",
       "      <td>...</td>\n",
       "      <td>...</td>\n",
       "      <td>...</td>\n",
       "    </tr>\n",
       "    <tr>\n",
       "      <th>8532</th>\n",
       "      <td>169.2</td>\n",
       "      <td>220</td>\n",
       "      <td>12</td>\n",
       "      <td>31</td>\n",
       "    </tr>\n",
       "    <tr>\n",
       "      <th>8533</th>\n",
       "      <td>182.1</td>\n",
       "      <td>232</td>\n",
       "      <td>12</td>\n",
       "      <td>31</td>\n",
       "    </tr>\n",
       "    <tr>\n",
       "      <th>8534</th>\n",
       "      <td>195.5</td>\n",
       "      <td>246</td>\n",
       "      <td>12</td>\n",
       "      <td>31</td>\n",
       "    </tr>\n",
       "    <tr>\n",
       "      <th>8535</th>\n",
       "      <td>210.7</td>\n",
       "      <td>261</td>\n",
       "      <td>12</td>\n",
       "      <td>31</td>\n",
       "    </tr>\n",
       "    <tr>\n",
       "      <th>8536</th>\n",
       "      <td>215.8</td>\n",
       "      <td>266</td>\n",
       "      <td>1</td>\n",
       "      <td>1</td>\n",
       "    </tr>\n",
       "  </tbody>\n",
       "</table>\n",
       "<p>20420 rows × 4 columns</p>\n",
       "</div>"
      ],
      "text/plain": [
       "      nowcast_conc.  aqi  month  day\n",
       "0             130.1  190      1    1\n",
       "1             128.1  188      1    1\n",
       "2             125.1  187      1    1\n",
       "3             125.6  187      1    1\n",
       "4             124.2  186      1    1\n",
       "...             ...  ...    ...  ...\n",
       "8532          169.2  220     12   31\n",
       "8533          182.1  232     12   31\n",
       "8534          195.5  246     12   31\n",
       "8535          210.7  261     12   31\n",
       "8536          215.8  266      1    1\n",
       "\n",
       "[20420 rows x 4 columns]"
      ]
     },
     "execution_count": 39,
     "metadata": {},
     "output_type": "execute_result"
    }
   ],
   "source": [
    "X[selected_features]"
   ]
  },
  {
   "cell_type": "code",
   "execution_count": 40,
   "id": "3606238d",
   "metadata": {},
   "outputs": [
    {
     "data": {
      "text/plain": [
       "0       3\n",
       "1       3\n",
       "2       3\n",
       "3       3\n",
       "4       3\n",
       "       ..\n",
       "8532    5\n",
       "8533    5\n",
       "8534    5\n",
       "8535    5\n",
       "8536    5\n",
       "Name: aqi_map, Length: 20420, dtype: int64"
      ]
     },
     "execution_count": 40,
     "metadata": {},
     "output_type": "execute_result"
    }
   ],
   "source": [
    "y\n"
   ]
  },
  {
   "cell_type": "code",
   "execution_count": null,
   "id": "8e0bbe8a",
   "metadata": {},
   "outputs": [],
   "source": []
  }
 ],
 "metadata": {
  "kernelspec": {
   "display_name": "Python 3 (ipykernel)",
   "language": "python",
   "name": "python3"
  },
  "language_info": {
   "codemirror_mode": {
    "name": "ipython",
    "version": 3
   },
   "file_extension": ".py",
   "mimetype": "text/x-python",
   "name": "python",
   "nbconvert_exporter": "python",
   "pygments_lexer": "ipython3",
   "version": "3.10.5"
  }
 },
 "nbformat": 4,
 "nbformat_minor": 5
}
