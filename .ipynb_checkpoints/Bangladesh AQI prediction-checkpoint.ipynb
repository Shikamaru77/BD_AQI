{
 "cells": [
  {
   "cell_type": "code",
   "execution_count": 1,
   "id": "130fec6b",
   "metadata": {},
   "outputs": [],
   "source": [
    "import pandas as pd\n",
    "import numpy as np\n",
    "import requests\n",
    "import seaborn as sns\n"
   ]
  },
  {
   "cell_type": "code",
   "execution_count": 2,
   "id": "fff0e6ec",
   "metadata": {},
   "outputs": [],
   "source": [
    "#loading the dataset\n",
    "df_2022 = pd.read_csv('Dhaka_PM2.5_2022.csv')\n",
    "df_2021 = pd.read_csv('Dhaka_PM2.5_2021.csv')\n",
    "df_2020 = pd.read_csv('Dhaka_PM2.5_2020.csv')"
   ]
  },
  {
   "cell_type": "code",
   "execution_count": 3,
   "id": "376305b6",
   "metadata": {},
   "outputs": [
    {
     "data": {
      "text/html": [
       "<div>\n",
       "<style scoped>\n",
       "    .dataframe tbody tr th:only-of-type {\n",
       "        vertical-align: middle;\n",
       "    }\n",
       "\n",
       "    .dataframe tbody tr th {\n",
       "        vertical-align: top;\n",
       "    }\n",
       "\n",
       "    .dataframe thead th {\n",
       "        text-align: right;\n",
       "    }\n",
       "</style>\n",
       "<table border=\"1\" class=\"dataframe\">\n",
       "  <thead>\n",
       "    <tr style=\"text-align: right;\">\n",
       "      <th></th>\n",
       "      <th>Date (LT)</th>\n",
       "      <th>Hour</th>\n",
       "      <th>NowCast Conc.</th>\n",
       "      <th>Raw Conc.</th>\n",
       "      <th>Conc. Unit</th>\n",
       "      <th>AQI</th>\n",
       "      <th>AQI Category</th>\n",
       "      <th>QC Name</th>\n",
       "    </tr>\n",
       "  </thead>\n",
       "  <tbody>\n",
       "    <tr>\n",
       "      <th>0</th>\n",
       "      <td>01/01/2022 02:00</td>\n",
       "      <td>2</td>\n",
       "      <td>130.1</td>\n",
       "      <td>129</td>\n",
       "      <td>ug/m3</td>\n",
       "      <td>190</td>\n",
       "      <td>Unhealthy</td>\n",
       "      <td>Valid</td>\n",
       "    </tr>\n",
       "    <tr>\n",
       "      <th>1</th>\n",
       "      <td>01/01/2022 03:00</td>\n",
       "      <td>3</td>\n",
       "      <td>128.1</td>\n",
       "      <td>126</td>\n",
       "      <td>ug/m3</td>\n",
       "      <td>188</td>\n",
       "      <td>Unhealthy</td>\n",
       "      <td>Valid</td>\n",
       "    </tr>\n",
       "    <tr>\n",
       "      <th>2</th>\n",
       "      <td>01/01/2022 04:00</td>\n",
       "      <td>4</td>\n",
       "      <td>125.1</td>\n",
       "      <td>121</td>\n",
       "      <td>ug/m3</td>\n",
       "      <td>187</td>\n",
       "      <td>Unhealthy</td>\n",
       "      <td>Valid</td>\n",
       "    </tr>\n",
       "    <tr>\n",
       "      <th>3</th>\n",
       "      <td>01/01/2022 05:00</td>\n",
       "      <td>5</td>\n",
       "      <td>125.6</td>\n",
       "      <td>126</td>\n",
       "      <td>ug/m3</td>\n",
       "      <td>187</td>\n",
       "      <td>Unhealthy</td>\n",
       "      <td>Valid</td>\n",
       "    </tr>\n",
       "    <tr>\n",
       "      <th>4</th>\n",
       "      <td>01/01/2022 06:00</td>\n",
       "      <td>6</td>\n",
       "      <td>124.2</td>\n",
       "      <td>120</td>\n",
       "      <td>ug/m3</td>\n",
       "      <td>186</td>\n",
       "      <td>Unhealthy</td>\n",
       "      <td>Valid</td>\n",
       "    </tr>\n",
       "  </tbody>\n",
       "</table>\n",
       "</div>"
      ],
      "text/plain": [
       "          Date (LT)  Hour  NowCast Conc.  Raw Conc. Conc. Unit  AQI  \\\n",
       "0  01/01/2022 02:00     2          130.1        129      ug/m3  190   \n",
       "1  01/01/2022 03:00     3          128.1        126      ug/m3  188   \n",
       "2  01/01/2022 04:00     4          125.1        121      ug/m3  187   \n",
       "3  01/01/2022 05:00     5          125.6        126      ug/m3  187   \n",
       "4  01/01/2022 06:00     6          124.2        120      ug/m3  186   \n",
       "\n",
       "  AQI Category QC Name  \n",
       "0    Unhealthy   Valid  \n",
       "1    Unhealthy   Valid  \n",
       "2    Unhealthy   Valid  \n",
       "3    Unhealthy   Valid  \n",
       "4    Unhealthy   Valid  "
      ]
     },
     "execution_count": 3,
     "metadata": {},
     "output_type": "execute_result"
    }
   ],
   "source": [
    "#concatenating for further use\n",
    "df = pd.concat([df_2022,df_2021,df_2020])\n",
    "df.head()"
   ]
  },
  {
   "cell_type": "code",
   "execution_count": 4,
   "id": "c1c33ff9",
   "metadata": {},
   "outputs": [
    {
     "name": "stdout",
     "output_type": "stream",
     "text": [
      "<class 'pandas.core.frame.DataFrame'>\n",
      "Index: 20420 entries, 0 to 8536\n",
      "Data columns (total 8 columns):\n",
      " #   Column         Non-Null Count  Dtype  \n",
      "---  ------         --------------  -----  \n",
      " 0   Date (LT)      20420 non-null  object \n",
      " 1   Hour           20420 non-null  int64  \n",
      " 2   NowCast Conc.  20420 non-null  float64\n",
      " 3   Raw Conc.      20420 non-null  int64  \n",
      " 4   Conc. Unit     20420 non-null  object \n",
      " 5   AQI            20420 non-null  int64  \n",
      " 6   AQI Category   20373 non-null  object \n",
      " 7   QC Name        20420 non-null  object \n",
      "dtypes: float64(1), int64(3), object(4)\n",
      "memory usage: 1.4+ MB\n"
     ]
    }
   ],
   "source": [
    "df.info()\n"
   ]
  },
  {
   "cell_type": "markdown",
   "id": "097881c7",
   "metadata": {},
   "source": [
    "## Data cleaning & wrangling\n"
   ]
  },
  {
   "cell_type": "code",
   "execution_count": 5,
   "id": "76bd9544",
   "metadata": {},
   "outputs": [],
   "source": [
    "df.columns= df.columns.str.lower()"
   ]
  },
  {
   "cell_type": "code",
   "execution_count": 6,
   "id": "c5b55915",
   "metadata": {},
   "outputs": [],
   "source": [
    "df.columns = df.columns.str.replace(' ', '_')"
   ]
  },
  {
   "cell_type": "code",
   "execution_count": 7,
   "id": "ed91d6fb",
   "metadata": {},
   "outputs": [
    {
     "data": {
      "text/html": [
       "<div>\n",
       "<style scoped>\n",
       "    .dataframe tbody tr th:only-of-type {\n",
       "        vertical-align: middle;\n",
       "    }\n",
       "\n",
       "    .dataframe tbody tr th {\n",
       "        vertical-align: top;\n",
       "    }\n",
       "\n",
       "    .dataframe thead th {\n",
       "        text-align: right;\n",
       "    }\n",
       "</style>\n",
       "<table border=\"1\" class=\"dataframe\">\n",
       "  <thead>\n",
       "    <tr style=\"text-align: right;\">\n",
       "      <th></th>\n",
       "      <th>date_(lt)</th>\n",
       "      <th>hour</th>\n",
       "      <th>nowcast_conc.</th>\n",
       "      <th>raw_conc.</th>\n",
       "      <th>conc._unit</th>\n",
       "      <th>aqi</th>\n",
       "      <th>aqi_category</th>\n",
       "      <th>qc_name</th>\n",
       "    </tr>\n",
       "  </thead>\n",
       "  <tbody>\n",
       "    <tr>\n",
       "      <th>0</th>\n",
       "      <td>01/01/2022 02:00</td>\n",
       "      <td>2</td>\n",
       "      <td>130.1</td>\n",
       "      <td>129</td>\n",
       "      <td>ug/m3</td>\n",
       "      <td>190</td>\n",
       "      <td>Unhealthy</td>\n",
       "      <td>Valid</td>\n",
       "    </tr>\n",
       "    <tr>\n",
       "      <th>1</th>\n",
       "      <td>01/01/2022 03:00</td>\n",
       "      <td>3</td>\n",
       "      <td>128.1</td>\n",
       "      <td>126</td>\n",
       "      <td>ug/m3</td>\n",
       "      <td>188</td>\n",
       "      <td>Unhealthy</td>\n",
       "      <td>Valid</td>\n",
       "    </tr>\n",
       "    <tr>\n",
       "      <th>2</th>\n",
       "      <td>01/01/2022 04:00</td>\n",
       "      <td>4</td>\n",
       "      <td>125.1</td>\n",
       "      <td>121</td>\n",
       "      <td>ug/m3</td>\n",
       "      <td>187</td>\n",
       "      <td>Unhealthy</td>\n",
       "      <td>Valid</td>\n",
       "    </tr>\n",
       "    <tr>\n",
       "      <th>3</th>\n",
       "      <td>01/01/2022 05:00</td>\n",
       "      <td>5</td>\n",
       "      <td>125.6</td>\n",
       "      <td>126</td>\n",
       "      <td>ug/m3</td>\n",
       "      <td>187</td>\n",
       "      <td>Unhealthy</td>\n",
       "      <td>Valid</td>\n",
       "    </tr>\n",
       "    <tr>\n",
       "      <th>4</th>\n",
       "      <td>01/01/2022 06:00</td>\n",
       "      <td>6</td>\n",
       "      <td>124.2</td>\n",
       "      <td>120</td>\n",
       "      <td>ug/m3</td>\n",
       "      <td>186</td>\n",
       "      <td>Unhealthy</td>\n",
       "      <td>Valid</td>\n",
       "    </tr>\n",
       "  </tbody>\n",
       "</table>\n",
       "</div>"
      ],
      "text/plain": [
       "          date_(lt)  hour  nowcast_conc.  raw_conc. conc._unit  aqi  \\\n",
       "0  01/01/2022 02:00     2          130.1        129      ug/m3  190   \n",
       "1  01/01/2022 03:00     3          128.1        126      ug/m3  188   \n",
       "2  01/01/2022 04:00     4          125.1        121      ug/m3  187   \n",
       "3  01/01/2022 05:00     5          125.6        126      ug/m3  187   \n",
       "4  01/01/2022 06:00     6          124.2        120      ug/m3  186   \n",
       "\n",
       "  aqi_category qc_name  \n",
       "0    Unhealthy   Valid  \n",
       "1    Unhealthy   Valid  \n",
       "2    Unhealthy   Valid  \n",
       "3    Unhealthy   Valid  \n",
       "4    Unhealthy   Valid  "
      ]
     },
     "execution_count": 7,
     "metadata": {},
     "output_type": "execute_result"
    }
   ],
   "source": [
    "df.head()"
   ]
  },
  {
   "cell_type": "code",
   "execution_count": 8,
   "id": "f98a7a28",
   "metadata": {},
   "outputs": [],
   "source": [
    "df.rename(columns={'date_(lt)': 'date'}, inplace=True)\n",
    "df['date'] = pd.to_datetime(df['date'], format = '%d/%m/%Y %H:%M')"
   ]
  },
  {
   "cell_type": "code",
   "execution_count": 9,
   "id": "1995a7d1",
   "metadata": {},
   "outputs": [
    {
     "name": "stdout",
     "output_type": "stream",
     "text": [
      "<class 'pandas.core.frame.DataFrame'>\n",
      "Index: 20420 entries, 0 to 8536\n",
      "Data columns (total 8 columns):\n",
      " #   Column         Non-Null Count  Dtype         \n",
      "---  ------         --------------  -----         \n",
      " 0   date           20420 non-null  datetime64[ns]\n",
      " 1   hour           20420 non-null  int64         \n",
      " 2   nowcast_conc.  20420 non-null  float64       \n",
      " 3   raw_conc.      20420 non-null  int64         \n",
      " 4   conc._unit     20420 non-null  object        \n",
      " 5   aqi            20420 non-null  int64         \n",
      " 6   aqi_category   20373 non-null  object        \n",
      " 7   qc_name        20420 non-null  object        \n",
      "dtypes: datetime64[ns](1), float64(1), int64(3), object(3)\n",
      "memory usage: 1.4+ MB\n"
     ]
    }
   ],
   "source": [
    "df.info()"
   ]
  },
  {
   "cell_type": "markdown",
   "id": "9d6909a3",
   "metadata": {},
   "source": [
    "converted to date time"
   ]
  },
  {
   "cell_type": "code",
   "execution_count": 10,
   "id": "e2793ac9",
   "metadata": {},
   "outputs": [
    {
     "data": {
      "text/plain": [
       "date              0\n",
       "hour              0\n",
       "nowcast_conc.     0\n",
       "raw_conc.         0\n",
       "conc._unit        0\n",
       "aqi               0\n",
       "aqi_category     47\n",
       "qc_name           0\n",
       "dtype: int64"
      ]
     },
     "execution_count": 10,
     "metadata": {},
     "output_type": "execute_result"
    }
   ],
   "source": [
    "df.isnull().sum()"
   ]
  },
  {
   "cell_type": "code",
   "execution_count": 11,
   "id": "a504b482",
   "metadata": {},
   "outputs": [],
   "source": [
    "df['aqi_category'].fillna('Unknown', inplace=True)"
   ]
  },
  {
   "cell_type": "code",
   "execution_count": 12,
   "id": "049e0f39",
   "metadata": {},
   "outputs": [
    {
     "data": {
      "text/plain": [
       "date             0\n",
       "hour             0\n",
       "nowcast_conc.    0\n",
       "raw_conc.        0\n",
       "conc._unit       0\n",
       "aqi              0\n",
       "aqi_category     0\n",
       "qc_name          0\n",
       "dtype: int64"
      ]
     },
     "execution_count": 12,
     "metadata": {},
     "output_type": "execute_result"
    }
   ],
   "source": [
    "df.isnull().sum()"
   ]
  },
  {
   "cell_type": "markdown",
   "id": "57ed778a",
   "metadata": {},
   "source": [
    "looks good"
   ]
  },
  {
   "cell_type": "code",
   "execution_count": 13,
   "id": "a461d351",
   "metadata": {
    "scrolled": true
   },
   "outputs": [
    {
     "data": {
      "text/plain": [
       "Index(['date', 'hour', 'nowcast_conc.', 'raw_conc.', 'conc._unit', 'aqi',\n",
       "       'aqi_category', 'qc_name'],\n",
       "      dtype='object')"
      ]
     },
     "execution_count": 13,
     "metadata": {},
     "output_type": "execute_result"
    }
   ],
   "source": [
    "df.columns"
   ]
  },
  {
   "cell_type": "code",
   "execution_count": 14,
   "id": "d9ee47fc",
   "metadata": {},
   "outputs": [
    {
     "data": {
      "text/html": [
       "<div>\n",
       "<style scoped>\n",
       "    .dataframe tbody tr th:only-of-type {\n",
       "        vertical-align: middle;\n",
       "    }\n",
       "\n",
       "    .dataframe tbody tr th {\n",
       "        vertical-align: top;\n",
       "    }\n",
       "\n",
       "    .dataframe thead th {\n",
       "        text-align: right;\n",
       "    }\n",
       "</style>\n",
       "<table border=\"1\" class=\"dataframe\">\n",
       "  <thead>\n",
       "    <tr style=\"text-align: right;\">\n",
       "      <th></th>\n",
       "      <th>date</th>\n",
       "      <th>hour</th>\n",
       "      <th>nowcast_conc.</th>\n",
       "      <th>raw_conc.</th>\n",
       "      <th>conc._unit</th>\n",
       "      <th>aqi</th>\n",
       "      <th>aqi_category</th>\n",
       "      <th>qc_name</th>\n",
       "      <th>month</th>\n",
       "      <th>day</th>\n",
       "    </tr>\n",
       "  </thead>\n",
       "  <tbody>\n",
       "    <tr>\n",
       "      <th>0</th>\n",
       "      <td>2022-01-01 02:00:00</td>\n",
       "      <td>2</td>\n",
       "      <td>130.1</td>\n",
       "      <td>129</td>\n",
       "      <td>ug/m3</td>\n",
       "      <td>190</td>\n",
       "      <td>Unhealthy</td>\n",
       "      <td>Valid</td>\n",
       "      <td>1</td>\n",
       "      <td>1</td>\n",
       "    </tr>\n",
       "    <tr>\n",
       "      <th>1</th>\n",
       "      <td>2022-01-01 03:00:00</td>\n",
       "      <td>3</td>\n",
       "      <td>128.1</td>\n",
       "      <td>126</td>\n",
       "      <td>ug/m3</td>\n",
       "      <td>188</td>\n",
       "      <td>Unhealthy</td>\n",
       "      <td>Valid</td>\n",
       "      <td>1</td>\n",
       "      <td>1</td>\n",
       "    </tr>\n",
       "    <tr>\n",
       "      <th>2</th>\n",
       "      <td>2022-01-01 04:00:00</td>\n",
       "      <td>4</td>\n",
       "      <td>125.1</td>\n",
       "      <td>121</td>\n",
       "      <td>ug/m3</td>\n",
       "      <td>187</td>\n",
       "      <td>Unhealthy</td>\n",
       "      <td>Valid</td>\n",
       "      <td>1</td>\n",
       "      <td>1</td>\n",
       "    </tr>\n",
       "    <tr>\n",
       "      <th>3</th>\n",
       "      <td>2022-01-01 05:00:00</td>\n",
       "      <td>5</td>\n",
       "      <td>125.6</td>\n",
       "      <td>126</td>\n",
       "      <td>ug/m3</td>\n",
       "      <td>187</td>\n",
       "      <td>Unhealthy</td>\n",
       "      <td>Valid</td>\n",
       "      <td>1</td>\n",
       "      <td>1</td>\n",
       "    </tr>\n",
       "    <tr>\n",
       "      <th>4</th>\n",
       "      <td>2022-01-01 06:00:00</td>\n",
       "      <td>6</td>\n",
       "      <td>124.2</td>\n",
       "      <td>120</td>\n",
       "      <td>ug/m3</td>\n",
       "      <td>186</td>\n",
       "      <td>Unhealthy</td>\n",
       "      <td>Valid</td>\n",
       "      <td>1</td>\n",
       "      <td>1</td>\n",
       "    </tr>\n",
       "  </tbody>\n",
       "</table>\n",
       "</div>"
      ],
      "text/plain": [
       "                 date  hour  nowcast_conc.  raw_conc. conc._unit  aqi  \\\n",
       "0 2022-01-01 02:00:00     2          130.1        129      ug/m3  190   \n",
       "1 2022-01-01 03:00:00     3          128.1        126      ug/m3  188   \n",
       "2 2022-01-01 04:00:00     4          125.1        121      ug/m3  187   \n",
       "3 2022-01-01 05:00:00     5          125.6        126      ug/m3  187   \n",
       "4 2022-01-01 06:00:00     6          124.2        120      ug/m3  186   \n",
       "\n",
       "  aqi_category qc_name  month  day  \n",
       "0    Unhealthy   Valid      1    1  \n",
       "1    Unhealthy   Valid      1    1  \n",
       "2    Unhealthy   Valid      1    1  \n",
       "3    Unhealthy   Valid      1    1  \n",
       "4    Unhealthy   Valid      1    1  "
      ]
     },
     "execution_count": 14,
     "metadata": {},
     "output_type": "execute_result"
    }
   ],
   "source": [
    "df['month'] = df['date'].dt.month\n",
    "df['day'] = df['date'].dt.day\n",
    "df.head()"
   ]
  },
  {
   "cell_type": "markdown",
   "id": "905ead00",
   "metadata": {},
   "source": [
    "## Feature Engineering"
   ]
  },
  {
   "cell_type": "code",
   "execution_count": 15,
   "id": "069790d4",
   "metadata": {},
   "outputs": [
    {
     "data": {
      "text/html": [
       "<div>\n",
       "<style scoped>\n",
       "    .dataframe tbody tr th:only-of-type {\n",
       "        vertical-align: middle;\n",
       "    }\n",
       "\n",
       "    .dataframe tbody tr th {\n",
       "        vertical-align: top;\n",
       "    }\n",
       "\n",
       "    .dataframe thead th {\n",
       "        text-align: right;\n",
       "    }\n",
       "</style>\n",
       "<table border=\"1\" class=\"dataframe\">\n",
       "  <thead>\n",
       "    <tr style=\"text-align: right;\">\n",
       "      <th></th>\n",
       "      <th>date</th>\n",
       "      <th>hour</th>\n",
       "      <th>nowcast_conc.</th>\n",
       "      <th>raw_conc.</th>\n",
       "      <th>conc._unit</th>\n",
       "      <th>aqi</th>\n",
       "      <th>aqi_category</th>\n",
       "      <th>qc_name</th>\n",
       "      <th>month</th>\n",
       "      <th>day</th>\n",
       "    </tr>\n",
       "  </thead>\n",
       "  <tbody>\n",
       "    <tr>\n",
       "      <th>0</th>\n",
       "      <td>2022-01-01 02:00:00</td>\n",
       "      <td>2</td>\n",
       "      <td>130.1</td>\n",
       "      <td>129</td>\n",
       "      <td>ug/m3</td>\n",
       "      <td>190</td>\n",
       "      <td>Unhealthy</td>\n",
       "      <td>Valid</td>\n",
       "      <td>1</td>\n",
       "      <td>1</td>\n",
       "    </tr>\n",
       "    <tr>\n",
       "      <th>1</th>\n",
       "      <td>2022-01-01 03:00:00</td>\n",
       "      <td>3</td>\n",
       "      <td>128.1</td>\n",
       "      <td>126</td>\n",
       "      <td>ug/m3</td>\n",
       "      <td>188</td>\n",
       "      <td>Unhealthy</td>\n",
       "      <td>Valid</td>\n",
       "      <td>1</td>\n",
       "      <td>1</td>\n",
       "    </tr>\n",
       "    <tr>\n",
       "      <th>2</th>\n",
       "      <td>2022-01-01 04:00:00</td>\n",
       "      <td>4</td>\n",
       "      <td>125.1</td>\n",
       "      <td>121</td>\n",
       "      <td>ug/m3</td>\n",
       "      <td>187</td>\n",
       "      <td>Unhealthy</td>\n",
       "      <td>Valid</td>\n",
       "      <td>1</td>\n",
       "      <td>1</td>\n",
       "    </tr>\n",
       "    <tr>\n",
       "      <th>3</th>\n",
       "      <td>2022-01-01 05:00:00</td>\n",
       "      <td>5</td>\n",
       "      <td>125.6</td>\n",
       "      <td>126</td>\n",
       "      <td>ug/m3</td>\n",
       "      <td>187</td>\n",
       "      <td>Unhealthy</td>\n",
       "      <td>Valid</td>\n",
       "      <td>1</td>\n",
       "      <td>1</td>\n",
       "    </tr>\n",
       "    <tr>\n",
       "      <th>4</th>\n",
       "      <td>2022-01-01 06:00:00</td>\n",
       "      <td>6</td>\n",
       "      <td>124.2</td>\n",
       "      <td>120</td>\n",
       "      <td>ug/m3</td>\n",
       "      <td>186</td>\n",
       "      <td>Unhealthy</td>\n",
       "      <td>Valid</td>\n",
       "      <td>1</td>\n",
       "      <td>1</td>\n",
       "    </tr>\n",
       "  </tbody>\n",
       "</table>\n",
       "</div>"
      ],
      "text/plain": [
       "                 date  hour  nowcast_conc.  raw_conc. conc._unit  aqi  \\\n",
       "0 2022-01-01 02:00:00     2          130.1        129      ug/m3  190   \n",
       "1 2022-01-01 03:00:00     3          128.1        126      ug/m3  188   \n",
       "2 2022-01-01 04:00:00     4          125.1        121      ug/m3  187   \n",
       "3 2022-01-01 05:00:00     5          125.6        126      ug/m3  187   \n",
       "4 2022-01-01 06:00:00     6          124.2        120      ug/m3  186   \n",
       "\n",
       "  aqi_category qc_name  month  day  \n",
       "0    Unhealthy   Valid      1    1  \n",
       "1    Unhealthy   Valid      1    1  \n",
       "2    Unhealthy   Valid      1    1  \n",
       "3    Unhealthy   Valid      1    1  \n",
       "4    Unhealthy   Valid      1    1  "
      ]
     },
     "execution_count": 15,
     "metadata": {},
     "output_type": "execute_result"
    }
   ],
   "source": [
    "df.head()"
   ]
  },
  {
   "cell_type": "code",
   "execution_count": 16,
   "id": "f020d695",
   "metadata": {},
   "outputs": [],
   "source": [
    "df.drop(columns = 'qc_name', inplace = True)"
   ]
  },
  {
   "cell_type": "markdown",
   "id": "3c75dd79",
   "metadata": {},
   "source": [
    "**Label encoding of our target label**\n",
    "\n",
    "Since, its an ordinal category so we have to label encode it"
   ]
  },
  {
   "cell_type": "code",
   "execution_count": 17,
   "id": "2bc61b09",
   "metadata": {},
   "outputs": [],
   "source": [
    "from sklearn.preprocessing import LabelEncoder"
   ]
  },
  {
   "cell_type": "code",
   "execution_count": 18,
   "id": "739531c2",
   "metadata": {
    "scrolled": true
   },
   "outputs": [],
   "source": [
    "LE = LabelEncoder()"
   ]
  },
  {
   "cell_type": "code",
   "execution_count": 19,
   "id": "c12504fa",
   "metadata": {},
   "outputs": [],
   "source": [
    "df['aqi_le'] = LE.fit_transform(df['aqi_category'])"
   ]
  },
  {
   "cell_type": "code",
   "execution_count": 52,
   "id": "e152546b",
   "metadata": {},
   "outputs": [
    {
     "ename": "KeyError",
     "evalue": "\"['aqi_category'] not in index\"",
     "output_type": "error",
     "traceback": [
      "\u001b[1;31m---------------------------------------------------------------------------\u001b[0m",
      "\u001b[1;31mKeyError\u001b[0m                                  Traceback (most recent call last)",
      "Input \u001b[1;32mIn [52]\u001b[0m, in \u001b[0;36m<cell line: 1>\u001b[1;34m()\u001b[0m\n\u001b[1;32m----> 1\u001b[0m \u001b[43mmain_df\u001b[49m\u001b[43m[\u001b[49m\u001b[43m[\u001b[49m\u001b[38;5;124;43m'\u001b[39;49m\u001b[38;5;124;43maqi_category\u001b[39;49m\u001b[38;5;124;43m'\u001b[39;49m\u001b[43m,\u001b[49m\u001b[38;5;124;43m'\u001b[39;49m\u001b[38;5;124;43maqi_le\u001b[39;49m\u001b[38;5;124;43m'\u001b[39;49m\u001b[43m]\u001b[49m\u001b[43m]\u001b[49m\n",
      "File \u001b[1;32m~\\dataScience\\lib\\site-packages\\pandas\\core\\frame.py:3767\u001b[0m, in \u001b[0;36mDataFrame.__getitem__\u001b[1;34m(self, key)\u001b[0m\n\u001b[0;32m   3765\u001b[0m     \u001b[38;5;28;01mif\u001b[39;00m is_iterator(key):\n\u001b[0;32m   3766\u001b[0m         key \u001b[38;5;241m=\u001b[39m \u001b[38;5;28mlist\u001b[39m(key)\n\u001b[1;32m-> 3767\u001b[0m     indexer \u001b[38;5;241m=\u001b[39m \u001b[38;5;28;43mself\u001b[39;49m\u001b[38;5;241;43m.\u001b[39;49m\u001b[43mcolumns\u001b[49m\u001b[38;5;241;43m.\u001b[39;49m\u001b[43m_get_indexer_strict\u001b[49m\u001b[43m(\u001b[49m\u001b[43mkey\u001b[49m\u001b[43m,\u001b[49m\u001b[43m \u001b[49m\u001b[38;5;124;43m\"\u001b[39;49m\u001b[38;5;124;43mcolumns\u001b[39;49m\u001b[38;5;124;43m\"\u001b[39;49m\u001b[43m)\u001b[49m[\u001b[38;5;241m1\u001b[39m]\n\u001b[0;32m   3769\u001b[0m \u001b[38;5;66;03m# take() does not accept boolean indexers\u001b[39;00m\n\u001b[0;32m   3770\u001b[0m \u001b[38;5;28;01mif\u001b[39;00m \u001b[38;5;28mgetattr\u001b[39m(indexer, \u001b[38;5;124m\"\u001b[39m\u001b[38;5;124mdtype\u001b[39m\u001b[38;5;124m\"\u001b[39m, \u001b[38;5;28;01mNone\u001b[39;00m) \u001b[38;5;241m==\u001b[39m \u001b[38;5;28mbool\u001b[39m:\n",
      "File \u001b[1;32m~\\dataScience\\lib\\site-packages\\pandas\\core\\indexes\\base.py:5877\u001b[0m, in \u001b[0;36mIndex._get_indexer_strict\u001b[1;34m(self, key, axis_name)\u001b[0m\n\u001b[0;32m   5874\u001b[0m \u001b[38;5;28;01melse\u001b[39;00m:\n\u001b[0;32m   5875\u001b[0m     keyarr, indexer, new_indexer \u001b[38;5;241m=\u001b[39m \u001b[38;5;28mself\u001b[39m\u001b[38;5;241m.\u001b[39m_reindex_non_unique(keyarr)\n\u001b[1;32m-> 5877\u001b[0m \u001b[38;5;28;43mself\u001b[39;49m\u001b[38;5;241;43m.\u001b[39;49m\u001b[43m_raise_if_missing\u001b[49m\u001b[43m(\u001b[49m\u001b[43mkeyarr\u001b[49m\u001b[43m,\u001b[49m\u001b[43m \u001b[49m\u001b[43mindexer\u001b[49m\u001b[43m,\u001b[49m\u001b[43m \u001b[49m\u001b[43maxis_name\u001b[49m\u001b[43m)\u001b[49m\n\u001b[0;32m   5879\u001b[0m keyarr \u001b[38;5;241m=\u001b[39m \u001b[38;5;28mself\u001b[39m\u001b[38;5;241m.\u001b[39mtake(indexer)\n\u001b[0;32m   5880\u001b[0m \u001b[38;5;28;01mif\u001b[39;00m \u001b[38;5;28misinstance\u001b[39m(key, Index):\n\u001b[0;32m   5881\u001b[0m     \u001b[38;5;66;03m# GH 42790 - Preserve name from an Index\u001b[39;00m\n",
      "File \u001b[1;32m~\\dataScience\\lib\\site-packages\\pandas\\core\\indexes\\base.py:5941\u001b[0m, in \u001b[0;36mIndex._raise_if_missing\u001b[1;34m(self, key, indexer, axis_name)\u001b[0m\n\u001b[0;32m   5938\u001b[0m     \u001b[38;5;28;01mraise\u001b[39;00m \u001b[38;5;167;01mKeyError\u001b[39;00m(\u001b[38;5;124mf\u001b[39m\u001b[38;5;124m\"\u001b[39m\u001b[38;5;124mNone of [\u001b[39m\u001b[38;5;132;01m{\u001b[39;00mkey\u001b[38;5;132;01m}\u001b[39;00m\u001b[38;5;124m] are in the [\u001b[39m\u001b[38;5;132;01m{\u001b[39;00maxis_name\u001b[38;5;132;01m}\u001b[39;00m\u001b[38;5;124m]\u001b[39m\u001b[38;5;124m\"\u001b[39m)\n\u001b[0;32m   5940\u001b[0m not_found \u001b[38;5;241m=\u001b[39m \u001b[38;5;28mlist\u001b[39m(ensure_index(key)[missing_mask\u001b[38;5;241m.\u001b[39mnonzero()[\u001b[38;5;241m0\u001b[39m]]\u001b[38;5;241m.\u001b[39munique())\n\u001b[1;32m-> 5941\u001b[0m \u001b[38;5;28;01mraise\u001b[39;00m \u001b[38;5;167;01mKeyError\u001b[39;00m(\u001b[38;5;124mf\u001b[39m\u001b[38;5;124m\"\u001b[39m\u001b[38;5;132;01m{\u001b[39;00mnot_found\u001b[38;5;132;01m}\u001b[39;00m\u001b[38;5;124m not in index\u001b[39m\u001b[38;5;124m\"\u001b[39m)\n",
      "\u001b[1;31mKeyError\u001b[0m: \"['aqi_category'] not in index\""
     ]
    }
   ],
   "source": []
  },
  {
   "cell_type": "code",
   "execution_count": 20,
   "id": "8251e56d",
   "metadata": {},
   "outputs": [
    {
     "data": {
      "text/html": [
       "<div>\n",
       "<style scoped>\n",
       "    .dataframe tbody tr th:only-of-type {\n",
       "        vertical-align: middle;\n",
       "    }\n",
       "\n",
       "    .dataframe tbody tr th {\n",
       "        vertical-align: top;\n",
       "    }\n",
       "\n",
       "    .dataframe thead th {\n",
       "        text-align: right;\n",
       "    }\n",
       "</style>\n",
       "<table border=\"1\" class=\"dataframe\">\n",
       "  <thead>\n",
       "    <tr style=\"text-align: right;\">\n",
       "      <th></th>\n",
       "      <th>date</th>\n",
       "      <th>hour</th>\n",
       "      <th>nowcast_conc.</th>\n",
       "      <th>raw_conc.</th>\n",
       "      <th>conc._unit</th>\n",
       "      <th>aqi</th>\n",
       "      <th>aqi_category</th>\n",
       "      <th>month</th>\n",
       "      <th>day</th>\n",
       "      <th>aqi_le</th>\n",
       "    </tr>\n",
       "  </thead>\n",
       "  <tbody>\n",
       "    <tr>\n",
       "      <th>0</th>\n",
       "      <td>2022-01-01 02:00:00</td>\n",
       "      <td>2</td>\n",
       "      <td>130.1</td>\n",
       "      <td>129</td>\n",
       "      <td>ug/m3</td>\n",
       "      <td>190</td>\n",
       "      <td>Unhealthy</td>\n",
       "      <td>1</td>\n",
       "      <td>1</td>\n",
       "      <td>3</td>\n",
       "    </tr>\n",
       "    <tr>\n",
       "      <th>1</th>\n",
       "      <td>2022-01-01 03:00:00</td>\n",
       "      <td>3</td>\n",
       "      <td>128.1</td>\n",
       "      <td>126</td>\n",
       "      <td>ug/m3</td>\n",
       "      <td>188</td>\n",
       "      <td>Unhealthy</td>\n",
       "      <td>1</td>\n",
       "      <td>1</td>\n",
       "      <td>3</td>\n",
       "    </tr>\n",
       "    <tr>\n",
       "      <th>2</th>\n",
       "      <td>2022-01-01 04:00:00</td>\n",
       "      <td>4</td>\n",
       "      <td>125.1</td>\n",
       "      <td>121</td>\n",
       "      <td>ug/m3</td>\n",
       "      <td>187</td>\n",
       "      <td>Unhealthy</td>\n",
       "      <td>1</td>\n",
       "      <td>1</td>\n",
       "      <td>3</td>\n",
       "    </tr>\n",
       "    <tr>\n",
       "      <th>3</th>\n",
       "      <td>2022-01-01 05:00:00</td>\n",
       "      <td>5</td>\n",
       "      <td>125.6</td>\n",
       "      <td>126</td>\n",
       "      <td>ug/m3</td>\n",
       "      <td>187</td>\n",
       "      <td>Unhealthy</td>\n",
       "      <td>1</td>\n",
       "      <td>1</td>\n",
       "      <td>3</td>\n",
       "    </tr>\n",
       "    <tr>\n",
       "      <th>4</th>\n",
       "      <td>2022-01-01 06:00:00</td>\n",
       "      <td>6</td>\n",
       "      <td>124.2</td>\n",
       "      <td>120</td>\n",
       "      <td>ug/m3</td>\n",
       "      <td>186</td>\n",
       "      <td>Unhealthy</td>\n",
       "      <td>1</td>\n",
       "      <td>1</td>\n",
       "      <td>3</td>\n",
       "    </tr>\n",
       "  </tbody>\n",
       "</table>\n",
       "</div>"
      ],
      "text/plain": [
       "                 date  hour  nowcast_conc.  raw_conc. conc._unit  aqi  \\\n",
       "0 2022-01-01 02:00:00     2          130.1        129      ug/m3  190   \n",
       "1 2022-01-01 03:00:00     3          128.1        126      ug/m3  188   \n",
       "2 2022-01-01 04:00:00     4          125.1        121      ug/m3  187   \n",
       "3 2022-01-01 05:00:00     5          125.6        126      ug/m3  187   \n",
       "4 2022-01-01 06:00:00     6          124.2        120      ug/m3  186   \n",
       "\n",
       "  aqi_category  month  day  aqi_le  \n",
       "0    Unhealthy      1    1       3  \n",
       "1    Unhealthy      1    1       3  \n",
       "2    Unhealthy      1    1       3  \n",
       "3    Unhealthy      1    1       3  \n",
       "4    Unhealthy      1    1       3  "
      ]
     },
     "execution_count": 20,
     "metadata": {},
     "output_type": "execute_result"
    }
   ],
   "source": [
    "df.head()"
   ]
  },
  {
   "cell_type": "code",
   "execution_count": 30,
   "id": "ddf685f2",
   "metadata": {},
   "outputs": [],
   "source": [
    "main_df = df.drop(columns= ['date','conc._unit', 'aqi_category'])"
   ]
  },
  {
   "cell_type": "code",
   "execution_count": 51,
   "id": "ddd7ee79",
   "metadata": {},
   "outputs": [
    {
     "ename": "KeyError",
     "evalue": "\"['aqi_category'] not in index\"",
     "output_type": "error",
     "traceback": [
      "\u001b[1;31m---------------------------------------------------------------------------\u001b[0m",
      "\u001b[1;31mKeyError\u001b[0m                                  Traceback (most recent call last)",
      "Input \u001b[1;32mIn [51]\u001b[0m, in \u001b[0;36m<cell line: 1>\u001b[1;34m()\u001b[0m\n\u001b[1;32m----> 1\u001b[0m \u001b[43mmain_df\u001b[49m\u001b[43m[\u001b[49m\u001b[43m[\u001b[49m\u001b[38;5;124;43m'\u001b[39;49m\u001b[38;5;124;43maqi_category\u001b[39;49m\u001b[38;5;124;43m'\u001b[39;49m\u001b[43m,\u001b[49m\u001b[38;5;124;43m'\u001b[39;49m\u001b[38;5;124;43maqi_le\u001b[39;49m\u001b[38;5;124;43m'\u001b[39;49m\u001b[43m]\u001b[49m\u001b[43m]\u001b[49m\n",
      "File \u001b[1;32m~\\dataScience\\lib\\site-packages\\pandas\\core\\frame.py:3767\u001b[0m, in \u001b[0;36mDataFrame.__getitem__\u001b[1;34m(self, key)\u001b[0m\n\u001b[0;32m   3765\u001b[0m     \u001b[38;5;28;01mif\u001b[39;00m is_iterator(key):\n\u001b[0;32m   3766\u001b[0m         key \u001b[38;5;241m=\u001b[39m \u001b[38;5;28mlist\u001b[39m(key)\n\u001b[1;32m-> 3767\u001b[0m     indexer \u001b[38;5;241m=\u001b[39m \u001b[38;5;28;43mself\u001b[39;49m\u001b[38;5;241;43m.\u001b[39;49m\u001b[43mcolumns\u001b[49m\u001b[38;5;241;43m.\u001b[39;49m\u001b[43m_get_indexer_strict\u001b[49m\u001b[43m(\u001b[49m\u001b[43mkey\u001b[49m\u001b[43m,\u001b[49m\u001b[43m \u001b[49m\u001b[38;5;124;43m\"\u001b[39;49m\u001b[38;5;124;43mcolumns\u001b[39;49m\u001b[38;5;124;43m\"\u001b[39;49m\u001b[43m)\u001b[49m[\u001b[38;5;241m1\u001b[39m]\n\u001b[0;32m   3769\u001b[0m \u001b[38;5;66;03m# take() does not accept boolean indexers\u001b[39;00m\n\u001b[0;32m   3770\u001b[0m \u001b[38;5;28;01mif\u001b[39;00m \u001b[38;5;28mgetattr\u001b[39m(indexer, \u001b[38;5;124m\"\u001b[39m\u001b[38;5;124mdtype\u001b[39m\u001b[38;5;124m\"\u001b[39m, \u001b[38;5;28;01mNone\u001b[39;00m) \u001b[38;5;241m==\u001b[39m \u001b[38;5;28mbool\u001b[39m:\n",
      "File \u001b[1;32m~\\dataScience\\lib\\site-packages\\pandas\\core\\indexes\\base.py:5877\u001b[0m, in \u001b[0;36mIndex._get_indexer_strict\u001b[1;34m(self, key, axis_name)\u001b[0m\n\u001b[0;32m   5874\u001b[0m \u001b[38;5;28;01melse\u001b[39;00m:\n\u001b[0;32m   5875\u001b[0m     keyarr, indexer, new_indexer \u001b[38;5;241m=\u001b[39m \u001b[38;5;28mself\u001b[39m\u001b[38;5;241m.\u001b[39m_reindex_non_unique(keyarr)\n\u001b[1;32m-> 5877\u001b[0m \u001b[38;5;28;43mself\u001b[39;49m\u001b[38;5;241;43m.\u001b[39;49m\u001b[43m_raise_if_missing\u001b[49m\u001b[43m(\u001b[49m\u001b[43mkeyarr\u001b[49m\u001b[43m,\u001b[49m\u001b[43m \u001b[49m\u001b[43mindexer\u001b[49m\u001b[43m,\u001b[49m\u001b[43m \u001b[49m\u001b[43maxis_name\u001b[49m\u001b[43m)\u001b[49m\n\u001b[0;32m   5879\u001b[0m keyarr \u001b[38;5;241m=\u001b[39m \u001b[38;5;28mself\u001b[39m\u001b[38;5;241m.\u001b[39mtake(indexer)\n\u001b[0;32m   5880\u001b[0m \u001b[38;5;28;01mif\u001b[39;00m \u001b[38;5;28misinstance\u001b[39m(key, Index):\n\u001b[0;32m   5881\u001b[0m     \u001b[38;5;66;03m# GH 42790 - Preserve name from an Index\u001b[39;00m\n",
      "File \u001b[1;32m~\\dataScience\\lib\\site-packages\\pandas\\core\\indexes\\base.py:5941\u001b[0m, in \u001b[0;36mIndex._raise_if_missing\u001b[1;34m(self, key, indexer, axis_name)\u001b[0m\n\u001b[0;32m   5938\u001b[0m     \u001b[38;5;28;01mraise\u001b[39;00m \u001b[38;5;167;01mKeyError\u001b[39;00m(\u001b[38;5;124mf\u001b[39m\u001b[38;5;124m\"\u001b[39m\u001b[38;5;124mNone of [\u001b[39m\u001b[38;5;132;01m{\u001b[39;00mkey\u001b[38;5;132;01m}\u001b[39;00m\u001b[38;5;124m] are in the [\u001b[39m\u001b[38;5;132;01m{\u001b[39;00maxis_name\u001b[38;5;132;01m}\u001b[39;00m\u001b[38;5;124m]\u001b[39m\u001b[38;5;124m\"\u001b[39m)\n\u001b[0;32m   5940\u001b[0m not_found \u001b[38;5;241m=\u001b[39m \u001b[38;5;28mlist\u001b[39m(ensure_index(key)[missing_mask\u001b[38;5;241m.\u001b[39mnonzero()[\u001b[38;5;241m0\u001b[39m]]\u001b[38;5;241m.\u001b[39munique())\n\u001b[1;32m-> 5941\u001b[0m \u001b[38;5;28;01mraise\u001b[39;00m \u001b[38;5;167;01mKeyError\u001b[39;00m(\u001b[38;5;124mf\u001b[39m\u001b[38;5;124m\"\u001b[39m\u001b[38;5;132;01m{\u001b[39;00mnot_found\u001b[38;5;132;01m}\u001b[39;00m\u001b[38;5;124m not in index\u001b[39m\u001b[38;5;124m\"\u001b[39m)\n",
      "\u001b[1;31mKeyError\u001b[0m: \"['aqi_category'] not in index\""
     ]
    }
   ],
   "source": []
  },
  {
   "cell_type": "code",
   "execution_count": 31,
   "id": "ef2360ce",
   "metadata": {},
   "outputs": [
    {
     "data": {
      "text/html": [
       "<div>\n",
       "<style scoped>\n",
       "    .dataframe tbody tr th:only-of-type {\n",
       "        vertical-align: middle;\n",
       "    }\n",
       "\n",
       "    .dataframe tbody tr th {\n",
       "        vertical-align: top;\n",
       "    }\n",
       "\n",
       "    .dataframe thead th {\n",
       "        text-align: right;\n",
       "    }\n",
       "</style>\n",
       "<table border=\"1\" class=\"dataframe\">\n",
       "  <thead>\n",
       "    <tr style=\"text-align: right;\">\n",
       "      <th></th>\n",
       "      <th>hour</th>\n",
       "      <th>nowcast_conc.</th>\n",
       "      <th>raw_conc.</th>\n",
       "      <th>aqi</th>\n",
       "      <th>month</th>\n",
       "      <th>day</th>\n",
       "      <th>aqi_le</th>\n",
       "    </tr>\n",
       "  </thead>\n",
       "  <tbody>\n",
       "    <tr>\n",
       "      <th>0</th>\n",
       "      <td>2</td>\n",
       "      <td>130.1</td>\n",
       "      <td>129</td>\n",
       "      <td>190</td>\n",
       "      <td>1</td>\n",
       "      <td>1</td>\n",
       "      <td>3</td>\n",
       "    </tr>\n",
       "    <tr>\n",
       "      <th>1</th>\n",
       "      <td>3</td>\n",
       "      <td>128.1</td>\n",
       "      <td>126</td>\n",
       "      <td>188</td>\n",
       "      <td>1</td>\n",
       "      <td>1</td>\n",
       "      <td>3</td>\n",
       "    </tr>\n",
       "    <tr>\n",
       "      <th>2</th>\n",
       "      <td>4</td>\n",
       "      <td>125.1</td>\n",
       "      <td>121</td>\n",
       "      <td>187</td>\n",
       "      <td>1</td>\n",
       "      <td>1</td>\n",
       "      <td>3</td>\n",
       "    </tr>\n",
       "    <tr>\n",
       "      <th>3</th>\n",
       "      <td>5</td>\n",
       "      <td>125.6</td>\n",
       "      <td>126</td>\n",
       "      <td>187</td>\n",
       "      <td>1</td>\n",
       "      <td>1</td>\n",
       "      <td>3</td>\n",
       "    </tr>\n",
       "    <tr>\n",
       "      <th>4</th>\n",
       "      <td>6</td>\n",
       "      <td>124.2</td>\n",
       "      <td>120</td>\n",
       "      <td>186</td>\n",
       "      <td>1</td>\n",
       "      <td>1</td>\n",
       "      <td>3</td>\n",
       "    </tr>\n",
       "    <tr>\n",
       "      <th>...</th>\n",
       "      <td>...</td>\n",
       "      <td>...</td>\n",
       "      <td>...</td>\n",
       "      <td>...</td>\n",
       "      <td>...</td>\n",
       "      <td>...</td>\n",
       "      <td>...</td>\n",
       "    </tr>\n",
       "    <tr>\n",
       "      <th>8532</th>\n",
       "      <td>20</td>\n",
       "      <td>169.2</td>\n",
       "      <td>190</td>\n",
       "      <td>220</td>\n",
       "      <td>12</td>\n",
       "      <td>31</td>\n",
       "      <td>6</td>\n",
       "    </tr>\n",
       "    <tr>\n",
       "      <th>8533</th>\n",
       "      <td>21</td>\n",
       "      <td>182.1</td>\n",
       "      <td>195</td>\n",
       "      <td>232</td>\n",
       "      <td>12</td>\n",
       "      <td>31</td>\n",
       "      <td>6</td>\n",
       "    </tr>\n",
       "    <tr>\n",
       "      <th>8534</th>\n",
       "      <td>22</td>\n",
       "      <td>195.5</td>\n",
       "      <td>209</td>\n",
       "      <td>246</td>\n",
       "      <td>12</td>\n",
       "      <td>31</td>\n",
       "      <td>6</td>\n",
       "    </tr>\n",
       "    <tr>\n",
       "      <th>8535</th>\n",
       "      <td>23</td>\n",
       "      <td>210.7</td>\n",
       "      <td>226</td>\n",
       "      <td>261</td>\n",
       "      <td>12</td>\n",
       "      <td>31</td>\n",
       "      <td>6</td>\n",
       "    </tr>\n",
       "    <tr>\n",
       "      <th>8536</th>\n",
       "      <td>0</td>\n",
       "      <td>215.8</td>\n",
       "      <td>221</td>\n",
       "      <td>266</td>\n",
       "      <td>1</td>\n",
       "      <td>1</td>\n",
       "      <td>6</td>\n",
       "    </tr>\n",
       "  </tbody>\n",
       "</table>\n",
       "<p>20420 rows × 7 columns</p>\n",
       "</div>"
      ],
      "text/plain": [
       "      hour  nowcast_conc.  raw_conc.  aqi  month  day  aqi_le\n",
       "0        2          130.1        129  190      1    1       3\n",
       "1        3          128.1        126  188      1    1       3\n",
       "2        4          125.1        121  187      1    1       3\n",
       "3        5          125.6        126  187      1    1       3\n",
       "4        6          124.2        120  186      1    1       3\n",
       "...    ...            ...        ...  ...    ...  ...     ...\n",
       "8532    20          169.2        190  220     12   31       6\n",
       "8533    21          182.1        195  232     12   31       6\n",
       "8534    22          195.5        209  246     12   31       6\n",
       "8535    23          210.7        226  261     12   31       6\n",
       "8536     0          215.8        221  266      1    1       6\n",
       "\n",
       "[20420 rows x 7 columns]"
      ]
     },
     "execution_count": 31,
     "metadata": {},
     "output_type": "execute_result"
    }
   ],
   "source": [
    "main_df"
   ]
  },
  {
   "cell_type": "markdown",
   "id": "136cabba",
   "metadata": {},
   "source": [
    "## Feature Selection\n",
    "\n",
    "I'll use some of the methods to select the features that would provide the best patterns or insights. These would be:\n",
    "- Correlation\n",
    "- RFECV"
   ]
  },
  {
   "cell_type": "markdown",
   "id": "4ee73937",
   "metadata": {},
   "source": [
    "1. **Correlation**"
   ]
  },
  {
   "cell_type": "code",
   "execution_count": 32,
   "id": "cf6f539a",
   "metadata": {},
   "outputs": [],
   "source": [
    "X= main_df.drop(columns = ['aqi_le'])\n",
    "y = main_df['aqi_le']"
   ]
  },
  {
   "cell_type": "code",
   "execution_count": 33,
   "id": "7479322c",
   "metadata": {},
   "outputs": [
    {
     "data": {
      "text/plain": [
       "<AxesSubplot:>"
      ]
     },
     "execution_count": 33,
     "metadata": {},
     "output_type": "execute_result"
    },
    {
     "data": {
      "image/png": "[encoded data removed]",
      "text/plain": [
       "<Figure size 432x288 with 2 Axes>"
      ]
     },
     "metadata": {
      "needs_background": "light"
     },
     "output_type": "display_data"
    }
   ],
   "source": [
    "sns.heatmap(main_df.corr(),annot =True, cmap = 'viridis')"
   ]
  },
  {
   "cell_type": "markdown",
   "id": "a63b7ee7",
   "metadata": {},
   "source": [
    "Here, the columns = **'nowcast_conc.'**, **'aqi**', **'raw_conc.'** could be chosen as our selected features"
   ]
  },
  {
   "cell_type": "markdown",
   "id": "39f8b82d",
   "metadata": {},
   "source": [
    "2. **RFECV**"
   ]
  },
  {
   "cell_type": "code",
   "execution_count": 34,
   "id": "614adc3e",
   "metadata": {},
   "outputs": [],
   "source": [
    "from sklearn.model_selection import train_test_split\n",
    "from sklearn.ensemble import RandomForestRegressor\n",
    "from sklearn.feature_selection import RFECV\n",
    "from sklearn.metrics import r2_score"
   ]
  },
  {
   "cell_type": "code",
   "execution_count": 35,
   "id": "204398d0",
   "metadata": {},
   "outputs": [],
   "source": [
    "X_train, X_test, y_train, y_test = train_test_split(X, y, test_size = 0.25)"
   ]
  },
  {
   "cell_type": "code",
   "execution_count": 36,
   "id": "716e2097",
   "metadata": {},
   "outputs": [],
   "source": [
    "rfr = RandomForestRegressor()"
   ]
  },
  {
   "cell_type": "code",
   "execution_count": 39,
   "id": "07062b99",
   "metadata": {},
   "outputs": [],
   "source": [
    "rfecv = RFECV(estimator = rfr, cv=5, scoring = 'r2')"
   ]
  },
  {
   "cell_type": "code",
   "execution_count": 40,
   "id": "b892215c",
   "metadata": {},
   "outputs": [
    {
     "data": {
      "text/plain": [
       "RFECV(cv=5, estimator=RandomForestRegressor(), scoring='r2')"
      ]
     },
     "execution_count": 40,
     "metadata": {},
     "output_type": "execute_result"
    }
   ],
   "source": [
    "rfecv.fit(X_train, y_train)"
   ]
  },
  {
   "cell_type": "markdown",
   "id": "571e2f15",
   "metadata": {},
   "source": [
    "After running the RFECV with these parameters, it will perform **recursive feature elimination with cross-validation**, iteratively **removing** the **least** important **features based on the RandomForestRegressor's evaluation** and **select** the **best subset of features** for the given regression problem. The RFECV object will store the results, and  can access them using its attributes such as support_, ranking_, and grid_scores_."
   ]
  },
  {
   "cell_type": "code",
   "execution_count": 42,
   "id": "a3619f3d",
   "metadata": {},
   "outputs": [
    {
     "data": {
      "text/plain": [
       "Index(['nowcast_conc.'], dtype='object')"
      ]
     },
     "execution_count": 42,
     "metadata": {},
     "output_type": "execute_result"
    }
   ],
   "source": [
    "selected_features = X_train.columns[rfecv.support_]\n",
    "selected_features"
   ]
  },
  {
   "cell_type": "code",
   "execution_count": 45,
   "id": "6cfd4d72",
   "metadata": {},
   "outputs": [],
   "source": [
    "#Ensembling\n",
    "# Train the RandomForestRegressor on the selected features\n",
    "rfr.fit(X_train[selected_features], y_train)\n",
    "\n",
    "#finally predict on test data\n",
    "y_pred = rfr.predict(X_test[selected_features])"
   ]
  },
  {
   "cell_type": "code",
   "execution_count": 46,
   "id": "47fedab0",
   "metadata": {},
   "outputs": [
    {
     "data": {
      "text/plain": [
       "0.9975967377374878"
      ]
     },
     "execution_count": 46,
     "metadata": {},
     "output_type": "execute_result"
    }
   ],
   "source": [
    "r2_score(y_test,y_pred)"
   ]
  },
  {
   "cell_type": "markdown",
   "id": "dd3c081d",
   "metadata": {},
   "source": [
    "In this case, an R2 score of 0.999858526156685 is very close to 1, which means that my regression model is an excellent fit for the data. It explains approximately 99.998% of the variance in the dependent variable, indicating that the model can almost perfectly predict the target variable."
   ]
  },
  {
   "cell_type": "code",
   "execution_count": 48,
   "id": "7332b181",
   "metadata": {},
   "outputs": [
    {
     "data": {
      "image/png": "[encoded data removed]",
      "text/plain": [
       "<Figure size 360x360 with 1 Axes>"
      ]
     },
     "metadata": {
      "needs_background": "light"
     },
     "output_type": "display_data"
    }
   ],
   "source": [
    "#plotting\n",
    "import matplotlib.pyplot as plt\n",
    "sns.displot(y_test-y_pred)\n",
    "plt.grid(True)\n",
    "plt.savefig('fig-2.png')"
   ]
  },
  {
   "cell_type": "markdown",
   "id": "4f593daa",
   "metadata": {},
   "source": [
    "## Pickling"
   ]
  },
  {
   "cell_type": "code",
   "execution_count": 49,
   "id": "eb6b3e8e",
   "metadata": {},
   "outputs": [],
   "source": [
    "import pickle\n",
    "\n",
    "with open('BDaqi.pkl', 'wb') as f:\n",
    "    pickle.dump(rfr, f)"
   ]
  },
  {
   "cell_type": "code",
   "execution_count": null,
   "id": "629ccc4a",
   "metadata": {},
   "outputs": [],
   "source": []
  }
 ],
 "metadata": {
  "kernelspec": {
   "display_name": "Python 3 (ipykernel)",
   "language": "python",
   "name": "python3"
  },
  "language_info": {
   "codemirror_mode": {
    "name": "ipython",
    "version": 3
   },
   "file_extension": ".py",
   "mimetype": "text/x-python",
   "name": "python",
   "nbconvert_exporter": "python",
   "pygments_lexer": "ipython3",
   "version": "3.9.12"
  }
 },
 "nbformat": 4,
 "nbformat_minor": 5
}
